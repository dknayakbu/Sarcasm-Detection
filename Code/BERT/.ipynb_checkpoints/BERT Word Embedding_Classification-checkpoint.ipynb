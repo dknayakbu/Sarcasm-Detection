{
 "cells": [
  {
   "cell_type": "code",
   "execution_count": 1,
   "metadata": {},
   "outputs": [
    {
     "name": "stderr",
     "output_type": "stream",
     "text": [
      "Using TensorFlow backend.\n"
     ]
    }
   ],
   "source": [
    "import numpy as np\n",
    "import pandas as pd\n",
    "from sklearn.model_selection import train_test_split\n",
    "from sklearn.linear_model import LogisticRegression\n",
    "from sklearn.model_selection import GridSearchCV\n",
    "from sklearn.model_selection import cross_val_score\n",
    "import torch\n",
    "import warnings\n",
    "import keras\n",
    "from keras import models\n",
    "from keras.models import Sequential\n",
    "from keras import layers\n",
    "from keras.layers import Embedding, Bidirectional, Dense, LSTM, Conv1D, MaxPooling1D, Flatten, Reshape, TimeDistributed\n",
    "from keras import optimizers\n",
    "from keras.callbacks import EarlyStopping\n",
    "import matplotlib.pyplot as plt\n",
    "from sklearn import metrics\n",
    "warnings.filterwarnings('ignore')"
   ]
  },
  {
   "cell_type": "code",
   "execution_count": 2,
   "metadata": {},
   "outputs": [],
   "source": [
    "df=pd.read_json(r\"./../../Dataset/Sarcasm_Headlines_Dataset_v2/Sarcasm_Headlines_Dataset_v2.json\",lines=True)"
   ]
  },
  {
   "cell_type": "code",
   "execution_count": 3,
   "metadata": {},
   "outputs": [
    {
     "data": {
      "text/plain": [
       "(28619, 3)"
      ]
     },
     "execution_count": 3,
     "metadata": {},
     "output_type": "execute_result"
    }
   ],
   "source": [
    "df.shape"
   ]
  },
  {
   "cell_type": "code",
   "execution_count": 4,
   "metadata": {},
   "outputs": [
    {
     "data": {
      "text/plain": [
       "Index(['is_sarcastic', 'headline', 'article_link'], dtype='object')"
      ]
     },
     "execution_count": 4,
     "metadata": {},
     "output_type": "execute_result"
    }
   ],
   "source": [
    "df.columns"
   ]
  },
  {
   "cell_type": "code",
   "execution_count": 5,
   "metadata": {},
   "outputs": [
    {
     "data": {
      "text/html": [
       "<div>\n",
       "<style scoped>\n",
       "    .dataframe tbody tr th:only-of-type {\n",
       "        vertical-align: middle;\n",
       "    }\n",
       "\n",
       "    .dataframe tbody tr th {\n",
       "        vertical-align: top;\n",
       "    }\n",
       "\n",
       "    .dataframe thead th {\n",
       "        text-align: right;\n",
       "    }\n",
       "</style>\n",
       "<table border=\"1\" class=\"dataframe\">\n",
       "  <thead>\n",
       "    <tr style=\"text-align: right;\">\n",
       "      <th></th>\n",
       "      <th>is_sarcastic</th>\n",
       "      <th>headline</th>\n",
       "      <th>article_link</th>\n",
       "    </tr>\n",
       "  </thead>\n",
       "  <tbody>\n",
       "    <tr>\n",
       "      <th>0</th>\n",
       "      <td>1</td>\n",
       "      <td>thirtysomething scientists unveil doomsday clo...</td>\n",
       "      <td>https://www.theonion.com/thirtysomething-scien...</td>\n",
       "    </tr>\n",
       "    <tr>\n",
       "      <th>1</th>\n",
       "      <td>0</td>\n",
       "      <td>dem rep. totally nails why congress is falling...</td>\n",
       "      <td>https://www.huffingtonpost.com/entry/donna-edw...</td>\n",
       "    </tr>\n",
       "    <tr>\n",
       "      <th>2</th>\n",
       "      <td>0</td>\n",
       "      <td>eat your veggies: 9 deliciously different recipes</td>\n",
       "      <td>https://www.huffingtonpost.com/entry/eat-your-...</td>\n",
       "    </tr>\n",
       "    <tr>\n",
       "      <th>3</th>\n",
       "      <td>1</td>\n",
       "      <td>inclement weather prevents liar from getting t...</td>\n",
       "      <td>https://local.theonion.com/inclement-weather-p...</td>\n",
       "    </tr>\n",
       "    <tr>\n",
       "      <th>4</th>\n",
       "      <td>1</td>\n",
       "      <td>mother comes pretty close to using word 'strea...</td>\n",
       "      <td>https://www.theonion.com/mother-comes-pretty-c...</td>\n",
       "    </tr>\n",
       "  </tbody>\n",
       "</table>\n",
       "</div>"
      ],
      "text/plain": [
       "   is_sarcastic                                           headline  \\\n",
       "0             1  thirtysomething scientists unveil doomsday clo...   \n",
       "1             0  dem rep. totally nails why congress is falling...   \n",
       "2             0  eat your veggies: 9 deliciously different recipes   \n",
       "3             1  inclement weather prevents liar from getting t...   \n",
       "4             1  mother comes pretty close to using word 'strea...   \n",
       "\n",
       "                                        article_link  \n",
       "0  https://www.theonion.com/thirtysomething-scien...  \n",
       "1  https://www.huffingtonpost.com/entry/donna-edw...  \n",
       "2  https://www.huffingtonpost.com/entry/eat-your-...  \n",
       "3  https://local.theonion.com/inclement-weather-p...  \n",
       "4  https://www.theonion.com/mother-comes-pretty-c...  "
      ]
     },
     "execution_count": 5,
     "metadata": {},
     "output_type": "execute_result"
    }
   ],
   "source": [
    "df.head()"
   ]
  },
  {
   "cell_type": "markdown",
   "metadata": {},
   "source": [
    "## Load BERT Embeddings"
   ]
  },
  {
   "cell_type": "markdown",
   "metadata": {},
   "source": [
    "The BERT Embeddings were created and stored in an NPY file for faster and efficient use.\n",
    "\n",
    "The benefit of doing so is that we do not have to run the BERT moidel every time we want to run a classification model. This saves time and resources as it runs on GPU and requires a lot of RAM."
   ]
  },
  {
   "cell_type": "code",
   "execution_count": 6,
   "metadata": {},
   "outputs": [
    {
     "name": "stdout",
     "output_type": "stream",
     "text": [
      "[[-0.08782839  0.06258331 -0.12000587 ... -0.33156553  0.5002954\n",
      "   0.1805836 ]\n",
      " [-0.43426287 -0.50481713 -0.36135322 ... -0.02944355  0.34979802\n",
      "   0.26927984]\n",
      " [-0.13752083 -0.09303751  0.14121507 ... -0.0079867   0.26747227\n",
      "   0.29764438]\n",
      " ...\n",
      " [-0.28889391 -0.20626098  0.15944281 ... -0.02881556  0.36084583\n",
      "   0.32674789]\n",
      " [-0.66664398 -0.10732649 -0.48685697 ... -0.26801217  0.5380348\n",
      "   0.31238717]\n",
      " [-0.05215537  0.08621484  0.14538945 ... -0.13530289  0.40199804\n",
      "   0.26933154]]\n"
     ]
    }
   ],
   "source": [
    "# Load BERT embedding numpy array from npy file\n",
    "from numpy import load\n",
    "embeddings_npy = load('embeddings.npy')\n",
    "# print the array\n",
    "print(embeddings_npy)"
   ]
  },
  {
   "cell_type": "code",
   "execution_count": 7,
   "metadata": {},
   "outputs": [
    {
     "data": {
      "text/plain": [
       "(28619, 768)"
      ]
     },
     "execution_count": 7,
     "metadata": {},
     "output_type": "execute_result"
    }
   ],
   "source": [
    "embeddings_npy.shape"
   ]
  },
  {
   "cell_type": "markdown",
   "metadata": {},
   "source": [
    "## Creating Test Training Split"
   ]
  },
  {
   "cell_type": "code",
   "execution_count": 8,
   "metadata": {},
   "outputs": [],
   "source": [
    "labels = df['is_sarcastic']"
   ]
  },
  {
   "cell_type": "code",
   "execution_count": 9,
   "metadata": {},
   "outputs": [],
   "source": [
    "train_features, test_features, train_labels, test_labels = train_test_split(embeddings_npy, labels)"
   ]
  },
  {
   "cell_type": "code",
   "execution_count": 10,
   "metadata": {},
   "outputs": [],
   "source": [
    "#training and test data splits\n",
    "x_train, x_test, y_train, y_test = train_test_split(embeddings_npy, labels, test_size = 0.25, random_state = 0)"
   ]
  },
  {
   "cell_type": "code",
   "execution_count": 11,
   "metadata": {},
   "outputs": [
    {
     "name": "stdout",
     "output_type": "stream",
     "text": [
      "(21464, 768)\n",
      "(7155, 768)\n",
      "(21464,)\n",
      "(7155,)\n"
     ]
    }
   ],
   "source": [
    "print(x_train.shape)\n",
    "print(x_test.shape)\n",
    "print(y_train.shape)\n",
    "print(y_test.shape)"
   ]
  },
  {
   "cell_type": "markdown",
   "metadata": {},
   "source": [
    "# Classification Task"
   ]
  },
  {
   "cell_type": "code",
   "execution_count": 12,
   "metadata": {},
   "outputs": [],
   "source": [
    "from sklearn.feature_extraction.text import CountVectorizer, TfidfTransformer, TfidfVectorizer\n",
    "from sklearn import preprocessing\n",
    "from sklearn.model_selection import train_test_split\n",
    "from sklearn import linear_model\n",
    "from sklearn.naive_bayes import MultinomialNB, GaussianNB, BernoulliNB\n",
    "from sklearn.svm import SVC\n",
    "from sklearn.neural_network import MLPClassifier\n",
    "from sklearn.linear_model import SGDClassifier\n",
    "from sklearn.ensemble import RandomForestClassifier, VotingClassifier\n",
    "from sklearn.metrics import precision_score, accuracy_score, recall_score, f1_score\n",
    "from sklearn.decomposition import TruncatedSVD"
   ]
  },
  {
   "cell_type": "markdown",
   "metadata": {},
   "source": [
    "## Naive Bayes classifier"
   ]
  },
  {
   "cell_type": "code",
   "execution_count": 13,
   "metadata": {},
   "outputs": [],
   "source": [
    "#Naive Bayes classifier\n",
    "def test_NaiveBayes(x_train, x_test, y_train, y_test):\n",
    "    MNB = GaussianNB()\n",
    "    NBClassifier = MNB.fit(x_train, y_train)\n",
    "    predictions = NBClassifier.predict(x_test)\n",
    "    a = accuracy_score(y_test, predictions)\n",
    "    p = precision_score(y_test, predictions, average = 'weighted')\n",
    "    r = recall_score(y_test, predictions, average = 'weighted')\n",
    "    f = f1_score(y_test, predictions, average = 'weighted')\n",
    "    return a, p, r, f"
   ]
  },
  {
   "cell_type": "code",
   "execution_count": 14,
   "metadata": {},
   "outputs": [
    {
     "name": "stdout",
     "output_type": "stream",
     "text": [
      "Accuracy = 0.7875611460517121\n",
      "Precision= 0.787510487345231\n",
      "Recall   = 0.7875611460517121\n",
      "F1 Score = 0.7871587386094959\n",
      "Wall time: 444 ms\n"
     ]
    }
   ],
   "source": [
    "%%time\n",
    "#Tesiting Naive-Bayes classifier\n",
    "accuracy, precision, recall, f1 = test_NaiveBayes(x_train, x_test, y_train, y_test)\n",
    "print(\"Accuracy =\",accuracy)\n",
    "print(\"Precision=\",precision)\n",
    "print(\"Recall   =\",recall)\n",
    "print(\"F1 Score =\",f1)"
   ]
  },
  {
   "cell_type": "markdown",
   "metadata": {},
   "source": [
    "## Logistic Regression classifier"
   ]
  },
  {
   "cell_type": "code",
   "execution_count": 15,
   "metadata": {},
   "outputs": [],
   "source": [
    "from sklearn.linear_model import LogisticRegression\n",
    "def test_LogisticRegression(x_train, x_test, y_train, y_test):\n",
    "    model = LogisticRegression(class_weight='balanced',solver=\"liblinear\",max_iter=300, C=1e7)\n",
    "    model.fit(x_train, y_train)\n",
    "    predictions = model.predict(x_test)\n",
    "    a = accuracy_score(y_test, predictions)\n",
    "    p = precision_score(y_test, predictions, average = 'weighted')\n",
    "    r = recall_score(y_test, predictions, average = 'weighted')\n",
    "    f = f1_score(y_test, predictions, average = 'weighted')\n",
    "    return a, p, r, f"
   ]
  },
  {
   "cell_type": "code",
   "execution_count": 16,
   "metadata": {},
   "outputs": [
    {
     "name": "stdout",
     "output_type": "stream",
     "text": [
      "Accuracy = 0.8749126484975541\n",
      "Precision= 0.8752604363196443\n",
      "Recall   = 0.8749126484975541\n",
      "F1 Score = 0.8749851035691031\n",
      "Wall time: 22.2 s\n"
     ]
    }
   ],
   "source": [
    "%%time\n",
    "#Tesiting Logistic Regression classifier\n",
    "accuracy, precision, recall, f1 = test_LogisticRegression(x_train, x_test, y_train, y_test)\n",
    "print(\"Accuracy =\",accuracy)\n",
    "print(\"Precision=\",precision)\n",
    "print(\"Recall   =\",recall)\n",
    "print(\"F1 Score =\",f1)"
   ]
  },
  {
   "cell_type": "markdown",
   "metadata": {},
   "source": [
    "## Multilayer Perceptron classfier"
   ]
  },
  {
   "cell_type": "code",
   "execution_count": 17,
   "metadata": {},
   "outputs": [],
   "source": [
    "#Multilayer Perceptron classfier\n",
    "def test_NN(x_train, x_test, y_train, y_test):\n",
    "    NN = MLPClassifier(solver = 'adam', alpha = 0.00095, learning_rate = 'adaptive', learning_rate_init = 0.01, max_iter = 300, random_state = 0)\n",
    "    Perceptron = NN.fit(x_train, y_train)\n",
    "    predictions = Perceptron.predict(x_test)\n",
    "    a = accuracy_score(y_test, predictions)\n",
    "    p = precision_score(y_test, predictions, average = 'weighted')\n",
    "    r = recall_score(y_test, predictions, average = 'weighted')\n",
    "    f = f1_score(y_test, predictions, average = 'weighted')\n",
    "    return a, p, r, f"
   ]
  },
  {
   "cell_type": "code",
   "execution_count": 18,
   "metadata": {},
   "outputs": [
    {
     "name": "stdout",
     "output_type": "stream",
     "text": [
      "Accuracy = 0.8774283717679944\n",
      "Precision= 0.8788462858403692\n",
      "Recall   = 0.8774283717679944\n",
      "F1 Score = 0.8775508046844797\n",
      "Wall time: 44.3 s\n"
     ]
    }
   ],
   "source": [
    "%%time\n",
    "#Testing NN classifier\n",
    "accuracy, precision, recall, f1 = test_NN(x_train, x_test, y_train, y_test)\n",
    "print(\"Accuracy =\",accuracy)\n",
    "print(\"Precision=\",precision)\n",
    "print(\"Recall   =\",recall)\n",
    "print(\"F1 Score =\",f1)"
   ]
  },
  {
   "cell_type": "markdown",
   "metadata": {},
   "source": [
    "## SVM classifier"
   ]
  },
  {
   "cell_type": "code",
   "execution_count": 19,
   "metadata": {},
   "outputs": [],
   "source": [
    "#SVM classifier\n",
    "def test_SVM(x_train, x_test, y_train, y_test):\n",
    "    SVM = SVC(kernel = 'linear')\n",
    "    SVMClassifier = SVM.fit(x_train, y_train)\n",
    "    predictions = SVMClassifier.predict(x_test)\n",
    "    a = accuracy_score(y_test, predictions)\n",
    "    p = precision_score(y_test, predictions, average = 'weighted')\n",
    "    r = recall_score(y_test, predictions, average = 'weighted')\n",
    "    f = f1_score(y_test, predictions, average = 'weighted')\n",
    "    return a, p, r, f"
   ]
  },
  {
   "cell_type": "code",
   "execution_count": 20,
   "metadata": {},
   "outputs": [
    {
     "name": "stdout",
     "output_type": "stream",
     "text": [
      "Accuracy = 0.8770090845562544\n",
      "Precision= 0.8770868432074758\n",
      "Recall   = 0.8770090845562544\n",
      "F1 Score = 0.8770363570336226\n",
      "Wall time: 7min 22s\n"
     ]
    }
   ],
   "source": [
    "%%time\n",
    "#Testing SVM classifier\n",
    "accuracy, precision, recall, f1 = test_SVM(x_train, x_test, y_train, y_test)\n",
    "print(\"Accuracy =\",accuracy)\n",
    "print(\"Precision=\",precision)\n",
    "print(\"Recall   =\",recall)\n",
    "print(\"F1 Score =\",f1)"
   ]
  },
  {
   "cell_type": "markdown",
   "metadata": {},
   "source": [
    "## Extreme Learning Machine (ELM)"
   ]
  },
  {
   "cell_type": "code",
   "execution_count": 21,
   "metadata": {},
   "outputs": [
    {
     "name": "stdout",
     "output_type": "stream",
     "text": [
      "Wall time: 5.58 s\n"
     ]
    }
   ],
   "source": [
    "%%time\n",
    "input_size = x_train.shape[1]\n",
    "hidden_size = 1000\n",
    "input_weights = np.random.uniform(low=0, high=1,size=[input_size,hidden_size])\n",
    "biases = np.random.uniform(low=0, high=1,size=[hidden_size])\n",
    "\n",
    "def relu(x):\n",
    "    return np.maximum(x, 0, x)\n",
    "\n",
    "def hidden_nodes(X):\n",
    "    G = np.dot(X, input_weights)\n",
    "    G = G + biases\n",
    "    H = relu(G)\n",
    "    return H\n",
    "\n",
    "output_weights = np.dot(np.linalg.pinv(hidden_nodes(x_train)), y_train)\n",
    "\n",
    "def predict(X):\n",
    "    out = hidden_nodes(X)\n",
    "    out = np.dot(out, output_weights)\n",
    "    return out\n",
    "\n",
    "prediction = predict(x_test)\n",
    "\n",
    "y_pred=[1/(1+np.exp(-x)) for x in prediction]"
   ]
  },
  {
   "cell_type": "code",
   "execution_count": 22,
   "metadata": {},
   "outputs": [],
   "source": [
    "acc=[]\n",
    "prec=[]\n",
    "rec=[]\n",
    "for i in [0.1, 0.2, 0.3, 0.4, 0.5, 0.6, 0.7, 0.8, 0.9, 1. ]:\n",
    "    y_pred=[1 if x>=i else 0 for x in prediction]\n",
    "    acc.append(metrics.accuracy_score(y_test, y_pred))\n",
    "    prec.append(metrics.precision_score(y_test, y_pred))\n",
    "    rec.append(metrics.recall_score(y_test, y_pred))"
   ]
  },
  {
   "cell_type": "code",
   "execution_count": 23,
   "metadata": {},
   "outputs": [
    {
     "data": {
      "image/png": "[encoded data removed]",
      "text/plain": [
       "<Figure size 432x288 with 1 Axes>"
      ]
     },
     "metadata": {
      "needs_background": "light"
     },
     "output_type": "display_data"
    }
   ],
   "source": [
    "plt.plot(np.arange(0.1,1.1,0.1),acc)\n",
    "plt.plot(np.arange(0.1,1.1,0.1),prec)\n",
    "plt.plot(np.arange(0.1,1.1,0.1),rec)\n",
    "plt.ylabel('values')\n",
    "plt.show()"
   ]
  },
  {
   "cell_type": "code",
   "execution_count": 24,
   "metadata": {},
   "outputs": [
    {
     "name": "stdout",
     "output_type": "stream",
     "text": [
      "Accuracy: 0.8314465408805032\n",
      "Precision: 0.8215680384499849\n",
      "Recall: 0.8171496862862264\n",
      "F1-Score: 0.8193529059316956\n"
     ]
    }
   ],
   "source": [
    "y_pred=[1 if x>=0.5 else 0 for x in prediction]\n",
    "\n",
    "# Model Accuracy: how often is the classifier correct?\n",
    "print(\"Accuracy:\",metrics.accuracy_score(y_test, y_pred))\n",
    "\n",
    "# Model Precision: what percentage of positive tuples are labeled as such?\n",
    "print(\"Precision:\",metrics.precision_score(y_test, y_pred))\n",
    "\n",
    "# Model Recall: what percentage of positive tuples are labelled as such?\n",
    "print(\"Recall:\",metrics.recall_score(y_test, y_pred))\n",
    "\n",
    "# Model F1-Score\n",
    "print(\"F1-Score:\",metrics.f1_score(y_test, y_pred))"
   ]
  },
  {
   "cell_type": "code",
   "execution_count": null,
   "metadata": {},
   "outputs": [],
   "source": []
  }
 ],
 "metadata": {
  "kernelspec": {
   "display_name": "Python 3",
   "language": "python",
   "name": "python3"
  },
  "language_info": {
   "codemirror_mode": {
    "name": "ipython",
    "version": 3
   },
   "file_extension": ".py",
   "mimetype": "text/x-python",
   "name": "python",
   "nbconvert_exporter": "python",
   "pygments_lexer": "ipython3",
   "version": "3.7.9"
  }
 },
 "nbformat": 4,
 "nbformat_minor": 2
}
