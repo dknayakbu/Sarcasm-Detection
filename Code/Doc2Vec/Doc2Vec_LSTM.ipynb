{
 "cells": [
  {
   "cell_type": "code",
   "execution_count": 1,
   "metadata": {},
   "outputs": [
    {
     "name": "stderr",
     "output_type": "stream",
     "text": [
      "Using TensorFlow backend.\n"
     ]
    }
   ],
   "source": [
    "import pandas as pd\n",
    "import numpy as np\n",
    "import re\n",
    "\n",
    "from nltk.stem import WordNetLemmatizer\n",
    "from nltk.tokenize import word_tokenize\n",
    "from nltk.corpus import stopwords\n",
    "from nltk import pos_tag\n",
    "from collections import defaultdict\n",
    "from nltk.corpus import wordnet as wn\n",
    "\n",
    "import warnings\n",
    "import keras\n",
    "from keras import models\n",
    "from keras.models import Sequential\n",
    "from keras import layers\n",
    "from keras.layers import Embedding, Bidirectional, Dense, LSTM, Conv1D, MaxPooling1D, Flatten, Reshape, TimeDistributed, Dropout\n",
    "from keras import optimizers\n",
    "from keras.callbacks import EarlyStopping\n",
    "import tensorflow as tf\n",
    "warnings.filterwarnings('ignore')\n",
    "\n",
    "import matplotlib.pyplot as plt\n",
    "from sklearn import metrics"
   ]
  },
  {
   "cell_type": "markdown",
   "metadata": {},
   "source": [
    "## Read the Datasets"
   ]
  },
  {
   "cell_type": "code",
   "execution_count": 2,
   "metadata": {},
   "outputs": [],
   "source": [
    "df=pd.read_json(r\"./../../Dataset/Sarcasm_Headlines_Dataset_v2/Sarcasm_Headlines_Dataset_v2.json\",lines=True)"
   ]
  },
  {
   "cell_type": "code",
   "execution_count": 3,
   "metadata": {},
   "outputs": [
    {
     "data": {
      "text/plain": [
       "(28619, 3)"
      ]
     },
     "execution_count": 3,
     "metadata": {},
     "output_type": "execute_result"
    }
   ],
   "source": [
    "df.shape"
   ]
  },
  {
   "cell_type": "code",
   "execution_count": 4,
   "metadata": {},
   "outputs": [
    {
     "data": {
      "text/plain": [
       "Index(['is_sarcastic', 'headline', 'article_link'], dtype='object')"
      ]
     },
     "execution_count": 4,
     "metadata": {},
     "output_type": "execute_result"
    }
   ],
   "source": [
    "df.columns"
   ]
  },
  {
   "cell_type": "code",
   "execution_count": 5,
   "metadata": {},
   "outputs": [
    {
     "data": {
      "text/plain": [
       "0    14985\n",
       "1    13634\n",
       "Name: is_sarcastic, dtype: int64"
      ]
     },
     "execution_count": 5,
     "metadata": {},
     "output_type": "execute_result"
    }
   ],
   "source": [
    "df['is_sarcastic'].value_counts()"
   ]
  },
  {
   "cell_type": "code",
   "execution_count": 6,
   "metadata": {},
   "outputs": [
    {
     "data": {
      "text/plain": [
       "is_sarcastic    0\n",
       "headline        0\n",
       "article_link    0\n",
       "dtype: int64"
      ]
     },
     "execution_count": 6,
     "metadata": {},
     "output_type": "execute_result"
    }
   ],
   "source": [
    "#Check for any null values int he dataset\n",
    "df.isnull().sum()"
   ]
  },
  {
   "cell_type": "code",
   "execution_count": 7,
   "metadata": {},
   "outputs": [],
   "source": [
    "# Check for any duplicate rows"
   ]
  },
  {
   "cell_type": "code",
   "execution_count": 8,
   "metadata": {},
   "outputs": [
    {
     "data": {
      "text/plain": [
       "28617"
      ]
     },
     "execution_count": 8,
     "metadata": {},
     "output_type": "execute_result"
    }
   ],
   "source": [
    "df['article_link'].nunique()"
   ]
  },
  {
   "cell_type": "code",
   "execution_count": 9,
   "metadata": {},
   "outputs": [
    {
     "data": {
      "text/plain": [
       "2"
      ]
     },
     "execution_count": 9,
     "metadata": {},
     "output_type": "execute_result"
    }
   ],
   "source": [
    "#There are 2 duplicate rows\n",
    "df.duplicated().sum()"
   ]
  },
  {
   "cell_type": "code",
   "execution_count": 10,
   "metadata": {},
   "outputs": [],
   "source": [
    "#Remove duplicate rows\n",
    "df.drop_duplicates(keep='first', inplace=True)"
   ]
  },
  {
   "cell_type": "code",
   "execution_count": 11,
   "metadata": {},
   "outputs": [
    {
     "data": {
      "text/plain": [
       "0"
      ]
     },
     "execution_count": 11,
     "metadata": {},
     "output_type": "execute_result"
    }
   ],
   "source": [
    "#No duplicated found\n",
    "df.duplicated().sum()"
   ]
  },
  {
   "cell_type": "markdown",
   "metadata": {},
   "source": [
    "## Data Cleaning"
   ]
  },
  {
   "cell_type": "markdown",
   "metadata": {},
   "source": [
    "## Step 1:\n",
    "### Remove Special Characters\n",
    "### Check if numbers are required\n",
    "### Remove anomalies like 1a 2b"
   ]
  },
  {
   "cell_type": "code",
   "execution_count": 12,
   "metadata": {},
   "outputs": [
    {
     "name": "stdout",
     "output_type": "stream",
     "text": [
      "Wall time: 188 ms\n"
     ]
    }
   ],
   "source": [
    "%%time\n",
    "df1=df.copy()\n",
    "\n",
    "#Remove all single letter words\n",
    "df1['headline']=df1['headline'].apply(lambda x: re.sub(r\"[^\\w\\s]\",\" \",str(x)))\n",
    "\n",
    "#Remove all numbers\n",
    "df1['headline']=df1['headline'].apply(lambda x: re.sub(r'\\d',\"\",str(x)))\n",
    "\n",
    "#Remove extra spaces\n",
    "df1['headline']=df1['headline'].apply(lambda x: \" \".join(x.split()))"
   ]
  },
  {
   "cell_type": "markdown",
   "metadata": {},
   "source": [
    "## Step 2:\n",
    "### Convert to lower case\n",
    "### Remove Stopwords and special words that need to be removed\n",
    "### Perform Lemmatization"
   ]
  },
  {
   "cell_type": "code",
   "execution_count": 13,
   "metadata": {},
   "outputs": [
    {
     "name": "stdout",
     "output_type": "stream",
     "text": [
      "Wall time: 44.7 s\n"
     ]
    }
   ],
   "source": [
    "%%time\n",
    "stop=set(stopwords.words('english'))\n",
    "#Update any words that we want to remove here\n",
    "custom_list=['nan']\n",
    "stop.update(custom_list)\n",
    "\n",
    "tadDict = defaultdict(lambda : wn.NOUN)\n",
    "tadDict['J'] = wn.ADJ\n",
    "tadDict['V'] = wn.VERB\n",
    "tadDict['R'] = wn.ADV\n",
    "\n",
    "#Convert to lower case\n",
    "df1['headline']=df1['headline'].apply(lambda x: x.lower())\n",
    "\n",
    "#Remove stopwords\n",
    "# df1['headline']=df1['headline'].apply(lambda x: \" \".join([i for i in word_tokenize(x) if i.casefold() not in map(str.casefold,stop)]))\n",
    "\n",
    "#Perform Lemmatization\n",
    "df1['headline']=df1['headline'].apply(lambda x: \" \".join(WordNetLemmatizer().lemmatize(word,tadDict[tag[0]]) for word,tag in pos_tag(word_tokenize(x))))\n",
    "\n",
    "#Remove all single letter words\n",
    "df1['headline']=df1['headline'].apply(lambda x: re.sub(r\"( [a-z]{1} )|(^[a-z]{1} )|( [a-z]{1}$)\",\" \",str(x)))\n",
    "\n",
    "#Remove extra spaces\n",
    "df1['headline']=df1['headline'].apply(lambda x: \" \".join(x.split()))"
   ]
  },
  {
   "cell_type": "code",
   "execution_count": 14,
   "metadata": {},
   "outputs": [],
   "source": [
    "df_cleaned=df1.copy()"
   ]
  },
  {
   "cell_type": "code",
   "execution_count": 15,
   "metadata": {},
   "outputs": [],
   "source": [
    "# Removing records that are having Null after cleaning.\n",
    "df_cleaned=df_cleaned[df_cleaned['headline'].apply(lambda x: len(x)) > 0]"
   ]
  },
  {
   "cell_type": "code",
   "execution_count": 16,
   "metadata": {},
   "outputs": [
    {
     "data": {
      "text/plain": [
       "[('to', 9107), ('of', 6295), ('the', 5535), ('in', 4599)]"
      ]
     },
     "execution_count": 16,
     "metadata": {},
     "output_type": "execute_result"
    }
   ],
   "source": [
    "from collections import Counter\n",
    "corpus=\" \".join(df_cleaned['headline'])\n",
    "corpus_split=corpus.split()\n",
    "Counter=Counter(corpus_split)\n",
    "most_occur = Counter.most_common(4)\n",
    "most_occur"
   ]
  },
  {
   "cell_type": "markdown",
   "metadata": {},
   "source": [
    "### Create Word Embeddings using Doc2Vec"
   ]
  },
  {
   "cell_type": "code",
   "execution_count": 17,
   "metadata": {},
   "outputs": [],
   "source": [
    "from sklearn import preprocessing\n",
    "from sklearn.model_selection import train_test_split\n",
    "# from sklearn import linear_model\n",
    "# from sklearn.naive_bayes import MultinomialNB\n",
    "# from sklearn.svm import SVC\n",
    "# from sklearn.neural_network import MLPClassifier\n",
    "# from sklearn.linear_model import SGDClassifier\n",
    "# from sklearn.ensemble import RandomForestClassifier, VotingClassifier\n",
    "# from sklearn.metrics import precision_score, accuracy_score, recall_score\n",
    "# from sklearn.decomposition import TruncatedSVD\n",
    "\n",
    "import gensim\n",
    "from gensim import corpora\n",
    "from gensim import models\n",
    "from gensim import similarities\n",
    "\n",
    "from gensim.models.doc2vec import Doc2Vec, TaggedDocument\n",
    "from multiprocessing import cpu_count"
   ]
  },
  {
   "cell_type": "code",
   "execution_count": 18,
   "metadata": {},
   "outputs": [],
   "source": [
    "def read_corpus(df):\n",
    "    for i in df['headline']:\n",
    "        tokens=gensim.utils.simple_preprocess(i)\n",
    "        yield TaggedDocument(tokens,i.split())\n",
    "    \n",
    "train_corpus=list(read_corpus(df))"
   ]
  },
  {
   "cell_type": "code",
   "execution_count": 19,
   "metadata": {},
   "outputs": [
    {
     "name": "stdout",
     "output_type": "stream",
     "text": [
      "Wall time: 41.9 s\n"
     ]
    }
   ],
   "source": [
    "%%time\n",
    "model = Doc2Vec( vector_size=400, window=8, min_count=1, hs=1, epochs=10, workers=cpu_count())\n",
    "\n",
    "model.build_vocab(train_corpus)\n",
    "model.train(train_corpus,total_examples=model.corpus_count,epochs=model.epochs)"
   ]
  },
  {
   "cell_type": "markdown",
   "metadata": {},
   "source": [
    "### Creating Sentence Vectors"
   ]
  },
  {
   "cell_type": "code",
   "execution_count": 20,
   "metadata": {},
   "outputs": [],
   "source": [
    "def sentence_vector(sentence,model):\n",
    "    sent_vec=[]\n",
    "    for i in sentence:\n",
    "        vector=model.infer_vector(i.split())\n",
    "        sent_vec.append(vector)\n",
    "    \n",
    "    return pd.DataFrame(sent_vec)"
   ]
  },
  {
   "cell_type": "code",
   "execution_count": 21,
   "metadata": {},
   "outputs": [
    {
     "data": {
      "text/plain": [
       "(28617, 400)"
      ]
     },
     "execution_count": 21,
     "metadata": {},
     "output_type": "execute_result"
    }
   ],
   "source": [
    "headlines_vec=sentence_vector(df_cleaned['headline'],model)\n",
    "min_max_scaler = preprocessing.MinMaxScaler()\n",
    "headlines_vec = min_max_scaler.fit_transform(headlines_vec)\n",
    "headlines_vec.shape"
   ]
  },
  {
   "cell_type": "code",
   "execution_count": 22,
   "metadata": {},
   "outputs": [],
   "source": [
    "labels=df_cleaned['is_sarcastic']"
   ]
  },
  {
   "cell_type": "markdown",
   "metadata": {},
   "source": [
    "## Creating Test Training Split"
   ]
  },
  {
   "cell_type": "code",
   "execution_count": 28,
   "metadata": {},
   "outputs": [],
   "source": [
    "#training and test data splits\n",
    "x_train, x_test, y_train, y_test = train_test_split(headlines_vec, labels, test_size = 0.2, random_state = 0)\n",
    "x_train, x_val,  y_train, y_val  = train_test_split(x_train, y_train, test_size = 0.2, random_state = 0)"
   ]
  },
  {
   "cell_type": "markdown",
   "metadata": {},
   "source": [
    "### Reshape the embeddings accordingly for input to LSTM\n",
    "\n",
    "- Samples: One sequence is one sample. A batch is comprised of one or more samples.\n",
    "- Time Steps: One time step is one point of observation in the sample.\n",
    "- Features: One feature is one observation at a time step."
   ]
  },
  {
   "cell_type": "code",
   "execution_count": 29,
   "metadata": {},
   "outputs": [],
   "source": [
    "x_train=x_train.reshape(x_train.shape[0],1,x_train.shape[1])\n",
    "x_val  =x_val.reshape(x_val.shape[0],1,x_val.shape[1])\n",
    "x_test =x_test.reshape(x_test.shape[0],1,x_test.shape[1])"
   ]
  },
  {
   "cell_type": "code",
   "execution_count": 30,
   "metadata": {},
   "outputs": [],
   "source": [
    "y_train=np.array(y_train).reshape(y_train.shape[0],1)\n",
    "y_val  =np.array(y_val).reshape(y_val.shape[0],1)\n",
    "y_test =np.array(y_test).reshape(y_test.shape[0],1)"
   ]
  },
  {
   "cell_type": "code",
   "execution_count": 31,
   "metadata": {},
   "outputs": [
    {
     "name": "stdout",
     "output_type": "stream",
     "text": [
      "(22921, 1, 400)\n",
      "(22921, 1)\n",
      "(2834, 1, 400)\n",
      "(2834, 1)\n",
      "(2862, 1, 400)\n",
      "(2862, 1)\n"
     ]
    }
   ],
   "source": [
    "print(x_train.shape)\n",
    "print(y_train.shape)\n",
    "print(x_val.shape)\n",
    "print(y_val.shape)\n",
    "print(x_test.shape)\n",
    "print(y_test.shape)"
   ]
  },
  {
   "cell_type": "markdown",
   "metadata": {},
   "source": [
    "# Classification Task"
   ]
  },
  {
   "cell_type": "markdown",
   "metadata": {},
   "source": [
    "## LSTM 32 nodes without Dropouts"
   ]
  },
  {
   "cell_type": "code",
   "execution_count": 32,
   "metadata": {
    "scrolled": true
   },
   "outputs": [
    {
     "name": "stdout",
     "output_type": "stream",
     "text": [
      "Model: \"sequential_2\"\n",
      "_________________________________________________________________\n",
      "Layer (type)                 Output Shape              Param #   \n",
      "=================================================================\n",
      "lstm_2 (LSTM)                (None, 32)                55424     \n",
      "_________________________________________________________________\n",
      "dense_1 (Dense)              (None, 1)                 33        \n",
      "=================================================================\n",
      "Total params: 55,457\n",
      "Trainable params: 55,457\n",
      "Non-trainable params: 0\n",
      "_________________________________________________________________\n",
      "None\n",
      "Train on 22921 samples, validate on 2834 samples\n",
      "Epoch 1/30\n",
      "22921/22921 [==============================] - 3s 144us/step - loss: 0.6637 - accuracy: 0.5904 - precision: 0.5434 - recall: 0.3521 - val_loss: 0.6467 - val_accuracy: 0.5843 - val_precision: 0.5980 - val_recall: 0.4323\n",
      "Epoch 2/30\n",
      "22921/22921 [==============================] - 2s 85us/step - loss: 0.6018 - accuracy: 0.6759 - precision: 0.6218 - recall: 0.4723 - val_loss: 0.5680 - val_accuracy: 0.7181 - val_precision: 0.6404 - val_recall: 0.5239\n",
      "Epoch 3/30\n",
      "22921/22921 [==============================] - 2s 83us/step - loss: 0.5722 - accuracy: 0.7028 - precision: 0.6515 - recall: 0.5527 - val_loss: 0.5432 - val_accuracy: 0.7311 - val_precision: 0.6619 - val_recall: 0.5751\n",
      "Epoch 4/30\n",
      "22921/22921 [==============================] - 2s 88us/step - loss: 0.5431 - accuracy: 0.7280 - precision: 0.6709 - recall: 0.5939 - val_loss: 0.7096 - val_accuracy: 0.5963 - val_precision: 0.6735 - val_recall: 0.6106\n",
      "Epoch 5/30\n",
      "22921/22921 [==============================] - 2s 84us/step - loss: 0.5307 - accuracy: 0.7342 - precision: 0.6757 - recall: 0.6249 - val_loss: 0.5856 - val_accuracy: 0.6937 - val_precision: 0.6797 - val_recall: 0.6357\n",
      "\n",
      "Epoch 00005: ReduceLROnPlateau reducing learning rate to 0.0005000000237487257.\n",
      "Epoch 6/30\n",
      "22921/22921 [==============================] - 2s 87us/step - loss: 0.5211 - accuracy: 0.7425 - precision: 0.6832 - recall: 0.6451 - val_loss: 0.5172 - val_accuracy: 0.7459 - val_precision: 0.6881 - val_recall: 0.6515\n",
      "Epoch 7/30\n",
      "22921/22921 [==============================] - 2s 84us/step - loss: 0.5106 - accuracy: 0.7515 - precision: 0.6924 - recall: 0.6576 - val_loss: 0.5232 - val_accuracy: 0.7223 - val_precision: 0.6965 - val_recall: 0.6614\n",
      "Epoch 8/30\n",
      "22921/22921 [==============================] - 2s 82us/step - loss: 0.5129 - accuracy: 0.7480 - precision: 0.6997 - recall: 0.6643 - val_loss: 0.5078 - val_accuracy: 0.7463 - val_precision: 0.7024 - val_recall: 0.6683\n",
      "Epoch 9/30\n",
      "22921/22921 [==============================] - 2s 86us/step - loss: 0.5072 - accuracy: 0.7522 - precision: 0.7050 - recall: 0.6717 - val_loss: 0.5204 - val_accuracy: 0.7456 - val_precision: 0.7069 - val_recall: 0.6754\n",
      "Epoch 10/30\n",
      "22921/22921 [==============================] - 2s 87us/step - loss: 0.5043 - accuracy: 0.7529 - precision: 0.7087 - recall: 0.6791 - val_loss: 0.5245 - val_accuracy: 0.7459 - val_precision: 0.7102 - val_recall: 0.6822\n",
      "\n",
      "Epoch 00010: ReduceLROnPlateau reducing learning rate to 0.0002500000118743628.\n",
      "Epoch 11/30\n",
      "22921/22921 [==============================] - 2s 87us/step - loss: 0.5021 - accuracy: 0.7570 - precision: 0.7118 - recall: 0.6852 - val_loss: 0.5037 - val_accuracy: 0.7466 - val_precision: 0.7136 - val_recall: 0.6875\n",
      "Epoch 12/30\n",
      "22921/22921 [==============================] - 2s 89us/step - loss: 0.5024 - accuracy: 0.7545 - precision: 0.7151 - recall: 0.6891 - val_loss: 0.5038 - val_accuracy: 0.7435 - val_precision: 0.7166 - val_recall: 0.6906\n",
      "Epoch 13/30\n",
      "22921/22921 [==============================] - 2s 87us/step - loss: 0.4996 - accuracy: 0.7581 - precision: 0.7181 - recall: 0.6919 - val_loss: 0.5015 - val_accuracy: 0.7474 - val_precision: 0.7194 - val_recall: 0.6935\n",
      "Epoch 14/30\n",
      "22921/22921 [==============================] - 2s 101us/step - loss: 0.4982 - accuracy: 0.7578 - precision: 0.7208 - recall: 0.6947 - val_loss: 0.4995 - val_accuracy: 0.7505 - val_precision: 0.7218 - val_recall: 0.6961\n",
      "Epoch 15/30\n",
      "22921/22921 [==============================] - 2s 97us/step - loss: 0.4988 - accuracy: 0.7565 - precision: 0.7227 - recall: 0.6974 - val_loss: 0.5178 - val_accuracy: 0.7491 - val_precision: 0.7234 - val_recall: 0.6991\n",
      "Epoch 16/30\n",
      "22921/22921 [==============================] - 2s 89us/step - loss: 0.4973 - accuracy: 0.7583 - precision: 0.7240 - recall: 0.7005 - val_loss: 0.5313 - val_accuracy: 0.7428 - val_precision: 0.7246 - val_recall: 0.7022\n",
      "\n",
      "Epoch 00016: ReduceLROnPlateau reducing learning rate to 0.0001250000059371814.\n",
      "Epoch 17/30\n",
      "22921/22921 [==============================] - 2s 79us/step - loss: 0.4959 - accuracy: 0.7588 - precision: 0.7251 - recall: 0.7036 - val_loss: 0.4975 - val_accuracy: 0.7541 - val_precision: 0.7260 - val_recall: 0.7046\n",
      "Epoch 18/30\n",
      "22921/22921 [==============================] - 2s 78us/step - loss: 0.4956 - accuracy: 0.7614 - precision: 0.7268 - recall: 0.7056 - val_loss: 0.5309 - val_accuracy: 0.7424 - val_precision: 0.7273 - val_recall: 0.7069\n",
      "Epoch 19/30\n",
      "22921/22921 [==============================] - 2s 80us/step - loss: 0.4956 - accuracy: 0.7587 - precision: 0.7277 - recall: 0.7082 - val_loss: 0.4968 - val_accuracy: 0.7491 - val_precision: 0.7283 - val_recall: 0.7089\n",
      "Epoch 20/30\n",
      "22921/22921 [==============================] - 2s 90us/step - loss: 0.4934 - accuracy: 0.7619 - precision: 0.7290 - recall: 0.7096 - val_loss: 0.4967 - val_accuracy: 0.7548 - val_precision: 0.7296 - val_recall: 0.7103\n",
      "Epoch 21/30\n",
      "22921/22921 [==============================] - 2s 86us/step - loss: 0.4935 - accuracy: 0.7617 - precision: 0.7302 - recall: 0.7109 - val_loss: 0.4968 - val_accuracy: 0.7562 - val_precision: 0.7308 - val_recall: 0.7116\n",
      "Epoch 22/30\n",
      "22921/22921 [==============================] - 2s 83us/step - loss: 0.4944 - accuracy: 0.7618 - precision: 0.7313 - recall: 0.7123 - val_loss: 0.4969 - val_accuracy: 0.7586 - val_precision: 0.7318 - val_recall: 0.7130\n",
      "\n",
      "Epoch 00022: ReduceLROnPlateau reducing learning rate to 6.25000029685907e-05.\n",
      "Epoch 23/30\n",
      "22921/22921 [==============================] - 2s 84us/step - loss: 0.4910 - accuracy: 0.7637 - precision: 0.7324 - recall: 0.7136 - val_loss: 0.4959 - val_accuracy: 0.7551 - val_precision: 0.7329 - val_recall: 0.7143\n",
      "Epoch 24/30\n",
      "22921/22921 [==============================] - 2s 79us/step - loss: 0.4910 - accuracy: 0.7649 - precision: 0.7334 - recall: 0.7149 - val_loss: 0.4956 - val_accuracy: 0.7551 - val_precision: 0.7339 - val_recall: 0.7155\n",
      "Epoch 25/30\n",
      "22921/22921 [==============================] - 2s 77us/step - loss: 0.4914 - accuracy: 0.7644 - precision: 0.7343 - recall: 0.7161 - val_loss: 0.5008 - val_accuracy: 0.7526 - val_precision: 0.7347 - val_recall: 0.7167\n",
      "Epoch 26/30\n",
      "22921/22921 [==============================] - 2s 78us/step - loss: 0.4913 - accuracy: 0.7631 - precision: 0.7350 - recall: 0.7173 - val_loss: 0.4978 - val_accuracy: 0.7534 - val_precision: 0.7354 - val_recall: 0.7178\n",
      "\n",
      "Epoch 00026: ReduceLROnPlateau reducing learning rate to 3.125000148429535e-05.\n",
      "Epoch 27/30\n",
      "22921/22921 [==============================] - 2s 77us/step - loss: 0.4902 - accuracy: 0.7649 - precision: 0.7357 - recall: 0.7184 - val_loss: 0.4980 - val_accuracy: 0.7530 - val_precision: 0.7361 - val_recall: 0.7189\n",
      "Epoch 28/30\n",
      "22921/22921 [==============================] - 2s 76us/step - loss: 0.4898 - accuracy: 0.7651 - precision: 0.7365 - recall: 0.7195 - val_loss: 0.4952 - val_accuracy: 0.7562 - val_precision: 0.7368 - val_recall: 0.7199\n",
      "Epoch 29/30\n",
      "22921/22921 [==============================] - 2s 99us/step - loss: 0.4903 - accuracy: 0.7648 - precision: 0.7372 - recall: 0.7203 - val_loss: 0.4968 - val_accuracy: 0.7558 - val_precision: 0.7375 - val_recall: 0.7207\n",
      "Epoch 30/30\n",
      "22921/22921 [==============================] - 2s 78us/step - loss: 0.4897 - accuracy: 0.7654 - precision: 0.7378 - recall: 0.7212 - val_loss: 0.4957 - val_accuracy: 0.7579 - val_precision: 0.7381 - val_recall: 0.7216\n",
      "\n",
      "Epoch 00030: ReduceLROnPlateau reducing learning rate to 1.5625000742147677e-05.\n",
      "score    : 50.24\n",
      "Accuracy : 75.65%\n",
      "Precision: 73.81%\n",
      "Recall   : 72.17%\n",
      "F1-Score : 72.98%\n"
     ]
    }
   ],
   "source": [
    "# create the model\n",
    "reduce_lr = keras.callbacks.ReduceLROnPlateau(monitor='val_loss', factor=0.50, patience=2, verbose=1, mode='auto', cooldown=0, min_lr=0.00001)\n",
    "\n",
    "early = keras.callbacks.EarlyStopping(monitor='val_loss', min_delta=0, patience=5, verbose=1, mode='auto')\n",
    "\n",
    "model = Sequential()\n",
    "model.add(LSTM(32,input_shape=(x_train.shape[1],x_train.shape[2])))\n",
    "model.add(Dense(1, activation='sigmoid'))\n",
    "model.compile(loss='binary_crossentropy', optimizer='adam', metrics=['accuracy',tf.keras.metrics.Precision(),tf.keras.metrics.Recall()])\n",
    "print(model.summary())\n",
    "\n",
    "history  = model.fit(np.array(x_train), np.array(y_train),\n",
    " epochs= 30,\n",
    " batch_size = 100,\n",
    " validation_data = (np.array(x_val), np.array(y_val)),\n",
    " callbacks = [reduce_lr, early]\n",
    ")\n",
    "\n",
    "score = model.evaluate(x_test, y_test, verbose = 2)\n",
    "print(\"score    : %.2f\" % (score[0]*100))\n",
    "print(\"Accuracy : %.2f%%\" % (score[1]*100))\n",
    "print(\"Precision: %.2f%%\" % (score[2]*100))\n",
    "print(\"Recall   : %.2f%%\" % (score[3]*100))\n",
    "print(\"F1-Score : %.2f%%\" % ((2*(score[2]*score[3])/(score[2]+score[3]))*100))"
   ]
  },
  {
   "cell_type": "code",
   "execution_count": 33,
   "metadata": {},
   "outputs": [
    {
     "data": {
      "text/plain": [
       "<AxesSubplot:>"
      ]
     },
     "execution_count": 33,
     "metadata": {},
     "output_type": "execute_result"
    },
    {
     "data": {
      "image/png": "[encoded data removed]",
      "text/plain": [
       "<Figure size 432x288 with 1 Axes>"
      ]
     },
     "metadata": {
      "needs_background": "light"
     },
     "output_type": "display_data"
    }
   ],
   "source": [
    "pd.DataFrame(history.history).plot(kind='line')"
   ]
  },
  {
   "cell_type": "markdown",
   "metadata": {},
   "source": [
    "## LSTM 128 nodes without Dropouts"
   ]
  },
  {
   "cell_type": "code",
   "execution_count": 34,
   "metadata": {
    "scrolled": true
   },
   "outputs": [
    {
     "name": "stdout",
     "output_type": "stream",
     "text": [
      "Model: \"sequential_3\"\n",
      "_________________________________________________________________\n",
      "Layer (type)                 Output Shape              Param #   \n",
      "=================================================================\n",
      "lstm_3 (LSTM)                (None, 128)               270848    \n",
      "_________________________________________________________________\n",
      "dense_2 (Dense)              (None, 1)                 129       \n",
      "=================================================================\n",
      "Total params: 270,977\n",
      "Trainable params: 270,977\n",
      "Non-trainable params: 0\n",
      "_________________________________________________________________\n",
      "None\n",
      "Train on 22921 samples, validate on 2834 samples\n",
      "Epoch 1/30\n",
      "22921/22921 [==============================] - 3s 115us/step - loss: 0.6757 - accuracy: 0.5698 - precision_1: 0.5230 - recall_1: 0.3476 - val_loss: 0.6186 - val_accuracy: 0.6418 - val_precision_1: 0.5738 - val_recall_1: 0.4218\n",
      "Epoch 2/30\n",
      "22921/22921 [==============================] - 2s 89us/step - loss: 0.5979 - accuracy: 0.6737 - precision_1: 0.6047 - recall_1: 0.4698 - val_loss: 0.5516 - val_accuracy: 0.7230 - val_precision_1: 0.6312 - val_recall_1: 0.5179\n",
      "Epoch 3/30\n",
      "22921/22921 [==============================] - 2s 82us/step - loss: 0.5619 - accuracy: 0.7060 - precision_1: 0.6475 - recall_1: 0.5477 - val_loss: 0.6817 - val_accuracy: 0.6122 - val_precision_1: 0.6573 - val_recall_1: 0.5622\n",
      "Epoch 4/30\n",
      "22921/22921 [==============================] - 2s 77us/step - loss: 0.5435 - accuracy: 0.7229 - precision_1: 0.6660 - recall_1: 0.5723 - val_loss: 0.5483 - val_accuracy: 0.7297 - val_precision_1: 0.6727 - val_recall_1: 0.5913\n",
      "Epoch 5/30\n",
      "22921/22921 [==============================] - 2s 82us/step - loss: 0.5295 - accuracy: 0.7363 - precision_1: 0.6789 - recall_1: 0.6067 - val_loss: 0.5208 - val_accuracy: 0.7449 - val_precision_1: 0.6840 - val_recall_1: 0.6182\n",
      "Epoch 6/30\n",
      "22921/22921 [==============================] - 2s 83us/step - loss: 0.5185 - accuracy: 0.7439 - precision_1: 0.6887 - recall_1: 0.6283 - val_loss: 0.5070 - val_accuracy: 0.7484 - val_precision_1: 0.6932 - val_recall_1: 0.6361\n",
      "Epoch 7/30\n",
      "22921/22921 [==============================] - 2s 83us/step - loss: 0.5190 - accuracy: 0.7405 - precision_1: 0.6963 - recall_1: 0.6421 - val_loss: 0.5069 - val_accuracy: 0.7498 - val_precision_1: 0.6992 - val_recall_1: 0.6482\n",
      "Epoch 8/30\n",
      "22921/22921 [==============================] - 2s 81us/step - loss: 0.5177 - accuracy: 0.7426 - precision_1: 0.7017 - recall_1: 0.6533 - val_loss: 0.5027 - val_accuracy: 0.7495 - val_precision_1: 0.7038 - val_recall_1: 0.6577\n",
      "Epoch 9/30\n",
      "22921/22921 [==============================] - 2s 83us/step - loss: 0.5105 - accuracy: 0.7489 - precision_1: 0.7061 - recall_1: 0.6614 - val_loss: 0.4992 - val_accuracy: 0.7519 - val_precision_1: 0.7083 - val_recall_1: 0.6652\n",
      "Epoch 10/30\n",
      "22921/22921 [==============================] - 2s 83us/step - loss: 0.5097 - accuracy: 0.7476 - precision_1: 0.7101 - recall_1: 0.6686 - val_loss: 0.6192 - val_accuracy: 0.6623 - val_precision_1: 0.7117 - val_recall_1: 0.6693\n",
      "Epoch 11/30\n",
      "22921/22921 [==============================] - 2s 82us/step - loss: 0.5095 - accuracy: 0.7518 - precision_1: 0.7136 - recall_1: 0.6700 - val_loss: 0.5058 - val_accuracy: 0.7343 - val_precision_1: 0.7151 - val_recall_1: 0.6723\n",
      "\n",
      "Epoch 00011: ReduceLROnPlateau reducing learning rate to 0.0005000000237487257.\n",
      "Epoch 12/30\n",
      "22921/22921 [==============================] - 2s 81us/step - loss: 0.5056 - accuracy: 0.7511 - precision_1: 0.7168 - recall_1: 0.6742 - val_loss: 0.4972 - val_accuracy: 0.7565 - val_precision_1: 0.7177 - val_recall_1: 0.6764\n",
      "Epoch 13/30\n",
      "22921/22921 [==============================] - 2s 80us/step - loss: 0.5038 - accuracy: 0.7516 - precision_1: 0.7188 - recall_1: 0.6785 - val_loss: 0.5005 - val_accuracy: 0.7445 - val_precision_1: 0.7200 - val_recall_1: 0.6802\n",
      "Epoch 14/30\n",
      "22921/22921 [==============================] - 2s 86us/step - loss: 0.5022 - accuracy: 0.7552 - precision_1: 0.7212 - recall_1: 0.6817 - val_loss: 0.4955 - val_accuracy: 0.7572 - val_precision_1: 0.7221 - val_recall_1: 0.6838\n",
      "Epoch 15/30\n",
      "22921/22921 [==============================] - 2s 82us/step - loss: 0.4992 - accuracy: 0.7577 - precision_1: 0.7231 - recall_1: 0.6855 - val_loss: 0.4992 - val_accuracy: 0.7509 - val_precision_1: 0.7240 - val_recall_1: 0.6873\n",
      "Epoch 16/30\n",
      "22921/22921 [==============================] - 2s 80us/step - loss: 0.4998 - accuracy: 0.7578 - precision_1: 0.7249 - recall_1: 0.6892 - val_loss: 0.5059 - val_accuracy: 0.7347 - val_precision_1: 0.7257 - val_recall_1: 0.6902\n",
      "\n",
      "Epoch 00016: ReduceLROnPlateau reducing learning rate to 0.0002500000118743628.\n",
      "Epoch 17/30\n",
      "22921/22921 [==============================] - 2s 78us/step - loss: 0.4916 - accuracy: 0.7626 - precision_1: 0.7267 - recall_1: 0.6911 - val_loss: 0.4941 - val_accuracy: 0.7583 - val_precision_1: 0.7275 - val_recall_1: 0.6927\n",
      "Epoch 18/30\n",
      "22921/22921 [==============================] - 2s 79us/step - loss: 0.4927 - accuracy: 0.7621 - precision_1: 0.7282 - recall_1: 0.6942 - val_loss: 0.4936 - val_accuracy: 0.7583 - val_precision_1: 0.7290 - val_recall_1: 0.6956\n",
      "Epoch 19/30\n",
      "22921/22921 [==============================] - 2s 85us/step - loss: 0.4913 - accuracy: 0.7618 - precision_1: 0.7297 - recall_1: 0.6969 - val_loss: 0.4932 - val_accuracy: 0.7534 - val_precision_1: 0.7304 - val_recall_1: 0.6979\n",
      "Epoch 20/30\n",
      "22921/22921 [==============================] - 2s 80us/step - loss: 0.4965 - accuracy: 0.7569 - precision_1: 0.7309 - recall_1: 0.6985 - val_loss: 0.4910 - val_accuracy: 0.7604 - val_precision_1: 0.7315 - val_recall_1: 0.6995\n",
      "Epoch 21/30\n",
      "22921/22921 [==============================] - 2s 83us/step - loss: 0.4898 - accuracy: 0.7627 - precision_1: 0.7321 - recall_1: 0.7004 - val_loss: 0.4967 - val_accuracy: 0.7548 - val_precision_1: 0.7325 - val_recall_1: 0.7016\n",
      "Epoch 22/30\n",
      "22921/22921 [==============================] - 2s 80us/step - loss: 0.4910 - accuracy: 0.7628 - precision_1: 0.7330 - recall_1: 0.7027 - val_loss: 0.4987 - val_accuracy: 0.7428 - val_precision_1: 0.7335 - val_recall_1: 0.7034\n",
      "\n",
      "Epoch 00022: ReduceLROnPlateau reducing learning rate to 0.0001250000059371814.\n",
      "Epoch 23/30\n",
      "22921/22921 [==============================] - 2s 79us/step - loss: 0.4879 - accuracy: 0.7663 - precision_1: 0.7342 - recall_1: 0.7040 - val_loss: 0.4929 - val_accuracy: 0.7572 - val_precision_1: 0.7347 - val_recall_1: 0.7049\n",
      "Epoch 24/30\n",
      "22921/22921 [==============================] - 2s 80us/step - loss: 0.4873 - accuracy: 0.7658 - precision_1: 0.7352 - recall_1: 0.7059 - val_loss: 0.4943 - val_accuracy: 0.7579 - val_precision_1: 0.7355 - val_recall_1: 0.7069\n",
      "\n",
      "Epoch 00024: ReduceLROnPlateau reducing learning rate to 6.25000029685907e-05.\n",
      "Epoch 25/30\n",
      "22921/22921 [==============================] - 2s 79us/step - loss: 0.4862 - accuracy: 0.7658 - precision_1: 0.7359 - recall_1: 0.7077 - val_loss: 0.4896 - val_accuracy: 0.7604 - val_precision_1: 0.7364 - val_recall_1: 0.7084\n",
      "Epoch 26/30\n",
      "22921/22921 [==============================] - 2s 80us/step - loss: 0.4852 - accuracy: 0.7656 - precision_1: 0.7369 - recall_1: 0.7090 - val_loss: 0.4918 - val_accuracy: 0.7583 - val_precision_1: 0.7372 - val_recall_1: 0.7099\n",
      "Epoch 27/30\n",
      "22921/22921 [==============================] - 2s 78us/step - loss: 0.4861 - accuracy: 0.7669 - precision_1: 0.7377 - recall_1: 0.7105 - val_loss: 0.4904 - val_accuracy: 0.7590 - val_precision_1: 0.7380 - val_recall_1: 0.7113\n",
      "\n",
      "Epoch 00027: ReduceLROnPlateau reducing learning rate to 3.125000148429535e-05.\n",
      "Epoch 28/30\n",
      "22921/22921 [==============================] - 2s 78us/step - loss: 0.4848 - accuracy: 0.7669 - precision_1: 0.7384 - recall_1: 0.7120 - val_loss: 0.4915 - val_accuracy: 0.7544 - val_precision_1: 0.7388 - val_recall_1: 0.7125\n",
      "Epoch 29/30\n",
      "22921/22921 [==============================] - 2s 79us/step - loss: 0.4847 - accuracy: 0.7660 - precision_1: 0.7392 - recall_1: 0.7129 - val_loss: 0.4912 - val_accuracy: 0.7590 - val_precision_1: 0.7395 - val_recall_1: 0.7135\n",
      "\n",
      "Epoch 00029: ReduceLROnPlateau reducing learning rate to 1.5625000742147677e-05.\n",
      "Epoch 30/30\n"
     ]
    },
    {
     "name": "stdout",
     "output_type": "stream",
     "text": [
      "22921/22921 [==============================] - 2s 83us/step - loss: 0.4840 - accuracy: 0.7678 - precision_1: 0.7398 - recall_1: 0.7141 - val_loss: 0.4899 - val_accuracy: 0.7597 - val_precision_1: 0.7401 - val_recall_1: 0.7147\n",
      "Epoch 00030: early stopping\n",
      "score    : 49.76\n",
      "Accuracy : 76.03%\n",
      "Precision: 74.01%\n",
      "Recall   : 71.49%\n",
      "F1-Score : 72.73%\n"
     ]
    }
   ],
   "source": [
    "# create the model\n",
    "reduce_lr = keras.callbacks.ReduceLROnPlateau(monitor='val_loss', factor=0.50, patience=2, verbose=1, mode='auto', cooldown=0, min_lr=0.00001)\n",
    "\n",
    "early = keras.callbacks.EarlyStopping(monitor='val_loss', min_delta=0, patience=5, verbose=1, mode='auto')\n",
    "\n",
    "model = Sequential()\n",
    "model.add(LSTM(128,input_shape=(x_train.shape[1],x_train.shape[2])))\n",
    "model.add(Dense(1, activation='sigmoid'))\n",
    "model.compile(loss='binary_crossentropy', optimizer='adam', metrics=['accuracy',tf.keras.metrics.Precision(),tf.keras.metrics.Recall()])\n",
    "print(model.summary())\n",
    "\n",
    "history  = model.fit(np.array(x_train), np.array(y_train),\n",
    " epochs= 30,\n",
    " batch_size = 100,\n",
    " validation_data = (np.array(x_val), np.array(y_val)),\n",
    " callbacks = [reduce_lr, early]\n",
    ")\n",
    "\n",
    "score = model.evaluate(x_test, y_test, verbose = 2)\n",
    "print(\"score    : %.2f\" % (score[0]*100))\n",
    "print(\"Accuracy : %.2f%%\" % (score[1]*100))\n",
    "print(\"Precision: %.2f%%\" % (score[2]*100))\n",
    "print(\"Recall   : %.2f%%\" % (score[3]*100))\n",
    "print(\"F1-Score : %.2f%%\" % ((2*(score[2]*score[3])/(score[2]+score[3]))*100))"
   ]
  },
  {
   "cell_type": "code",
   "execution_count": 35,
   "metadata": {},
   "outputs": [
    {
     "data": {
      "text/plain": [
       "<AxesSubplot:>"
      ]
     },
     "execution_count": 35,
     "metadata": {},
     "output_type": "execute_result"
    },
    {
     "data": {
      "image/png": "[encoded data removed]",
      "text/plain": [
       "<Figure size 432x288 with 1 Axes>"
      ]
     },
     "metadata": {
      "needs_background": "light"
     },
     "output_type": "display_data"
    }
   ],
   "source": [
    "pd.DataFrame(history.history).plot(kind='line')"
   ]
  },
  {
   "cell_type": "markdown",
   "metadata": {},
   "source": [
    "## LSTM 128 nodes with Dropouts"
   ]
  },
  {
   "cell_type": "code",
   "execution_count": 36,
   "metadata": {},
   "outputs": [
    {
     "name": "stdout",
     "output_type": "stream",
     "text": [
      "Model: \"sequential_4\"\n",
      "_________________________________________________________________\n",
      "Layer (type)                 Output Shape              Param #   \n",
      "=================================================================\n",
      "lstm_4 (LSTM)                (None, 128)               270848    \n",
      "_________________________________________________________________\n",
      "dense_3 (Dense)              (None, 1)                 129       \n",
      "=================================================================\n",
      "Total params: 270,977\n",
      "Trainable params: 270,977\n",
      "Non-trainable params: 0\n",
      "_________________________________________________________________\n",
      "None\n",
      "Train on 22921 samples, validate on 2834 samples\n",
      "Epoch 1/30\n",
      "22921/22921 [==============================] - 3s 116us/step - loss: 0.6646 - accuracy: 0.5849 - precision_2: 0.5300 - recall_2: 0.3486 - val_loss: 0.7312 - val_accuracy: 0.4901 - val_precision_2: 0.5670 - val_recall_2: 0.4963\n",
      "Epoch 2/30\n",
      "22921/22921 [==============================] - 2s 84us/step - loss: 0.6061 - accuracy: 0.6667 - precision_2: 0.5863 - recall_2: 0.5528 - val_loss: 0.5812 - val_accuracy: 0.7022 - val_precision_2: 0.6065 - val_recall_2: 0.5790\n",
      "Epoch 3/30\n",
      "22921/22921 [==============================] - 2s 86us/step - loss: 0.5886 - accuracy: 0.6823 - precision_2: 0.6184 - recall_2: 0.5976 - val_loss: 0.5449 - val_accuracy: 0.7237 - val_precision_2: 0.6296 - val_recall_2: 0.6070\n",
      "Epoch 4/30\n",
      "22921/22921 [==============================] - 2s 86us/step - loss: 0.5668 - accuracy: 0.7049 - precision_2: 0.6396 - recall_2: 0.6168 - val_loss: 0.5352 - val_accuracy: 0.7269 - val_precision_2: 0.6476 - val_recall_2: 0.6234\n",
      "Epoch 5/30\n",
      "22921/22921 [==============================] - 2s 88us/step - loss: 0.5644 - accuracy: 0.7055 - precision_2: 0.6535 - recall_2: 0.6282 - val_loss: 0.5308 - val_accuracy: 0.7325 - val_precision_2: 0.6586 - val_recall_2: 0.6334\n",
      "Epoch 6/30\n",
      "22921/22921 [==============================] - 2s 86us/step - loss: 0.5703 - accuracy: 0.6978 - precision_2: 0.6617 - recall_2: 0.6361 - val_loss: 0.5507 - val_accuracy: 0.7265 - val_precision_2: 0.6638 - val_recall_2: 0.6408\n",
      "Epoch 7/30\n",
      "22921/22921 [==============================] - 2s 92us/step - loss: 0.5686 - accuracy: 0.6980 - precision_2: 0.6656 - recall_2: 0.6445 - val_loss: 0.5550 - val_accuracy: 0.7244 - val_precision_2: 0.6670 - val_recall_2: 0.6476\n",
      "\n",
      "Epoch 00007: ReduceLROnPlateau reducing learning rate to 0.0005000000237487257.\n",
      "Epoch 8/30\n",
      "22921/22921 [==============================] - 2s 88us/step - loss: 0.5567 - accuracy: 0.7097 - precision_2: 0.6690 - recall_2: 0.6510 - val_loss: 0.5239 - val_accuracy: 0.7421 - val_precision_2: 0.6713 - val_recall_2: 0.6533\n",
      "Epoch 9/30\n",
      "22921/22921 [==============================] - 2s 85us/step - loss: 0.5571 - accuracy: 0.7096 - precision_2: 0.6733 - recall_2: 0.6552 - val_loss: 0.5268 - val_accuracy: 0.7255 - val_precision_2: 0.6752 - val_recall_2: 0.6560\n",
      "Epoch 10/30\n",
      "22921/22921 [==============================] - 2s 85us/step - loss: 0.5542 - accuracy: 0.7126 - precision_2: 0.6771 - recall_2: 0.6568 - val_loss: 0.5582 - val_accuracy: 0.7117 - val_precision_2: 0.6779 - val_recall_2: 0.6594\n",
      "\n",
      "Epoch 00010: ReduceLROnPlateau reducing learning rate to 0.0002500000118743628.\n",
      "Epoch 11/30\n",
      "22921/22921 [==============================] - 2s 84us/step - loss: 0.5510 - accuracy: 0.7179 - precision_2: 0.6790 - recall_2: 0.6619 - val_loss: 0.5237 - val_accuracy: 0.7484 - val_precision_2: 0.6805 - val_recall_2: 0.6636\n",
      "Epoch 12/30\n",
      "22921/22921 [==============================] - 2s 87us/step - loss: 0.5497 - accuracy: 0.7158 - precision_2: 0.6818 - recall_2: 0.6653 - val_loss: 0.5202 - val_accuracy: 0.7339 - val_precision_2: 0.6830 - val_recall_2: 0.6660\n",
      "Epoch 13/30\n",
      "22921/22921 [==============================] - 2s 85us/step - loss: 0.5483 - accuracy: 0.7172 - precision_2: 0.6843 - recall_2: 0.6667 - val_loss: 0.5212 - val_accuracy: 0.7466 - val_precision_2: 0.6853 - val_recall_2: 0.6677\n",
      "Epoch 14/30\n",
      "22921/22921 [==============================] - 2s 81us/step - loss: 0.5489 - accuracy: 0.7183 - precision_2: 0.6862 - recall_2: 0.6688 - val_loss: 0.5194 - val_accuracy: 0.7311 - val_precision_2: 0.6873 - val_recall_2: 0.6694\n",
      "Epoch 15/30\n",
      "22921/22921 [==============================] - 2s 83us/step - loss: 0.5476 - accuracy: 0.7200 - precision_2: 0.6884 - recall_2: 0.6697 - val_loss: 0.5249 - val_accuracy: 0.7212 - val_precision_2: 0.6894 - val_recall_2: 0.6699\n",
      "Epoch 16/30\n",
      "22921/22921 [==============================] - 2s 85us/step - loss: 0.5463 - accuracy: 0.7200 - precision_2: 0.6903 - recall_2: 0.6701 - val_loss: 0.5172 - val_accuracy: 0.7438 - val_precision_2: 0.6911 - val_recall_2: 0.6710\n",
      "Epoch 17/30\n",
      "22921/22921 [==============================] - 2s 80us/step - loss: 0.5465 - accuracy: 0.7228 - precision_2: 0.6919 - recall_2: 0.6718 - val_loss: 0.5153 - val_accuracy: 0.7470 - val_precision_2: 0.6926 - val_recall_2: 0.6726\n",
      "Epoch 18/30\n",
      "22921/22921 [==============================] - 2s 81us/step - loss: 0.5504 - accuracy: 0.7197 - precision_2: 0.6934 - recall_2: 0.6732 - val_loss: 0.5168 - val_accuracy: 0.7410 - val_precision_2: 0.6940 - val_recall_2: 0.6736\n",
      "Epoch 19/30\n",
      "22921/22921 [==============================] - 2s 105us/step - loss: 0.5465 - accuracy: 0.7207 - precision_2: 0.6946 - recall_2: 0.6738 - val_loss: 0.5157 - val_accuracy: 0.7452 - val_precision_2: 0.6951 - val_recall_2: 0.6745\n",
      "\n",
      "Epoch 00019: ReduceLROnPlateau reducing learning rate to 0.0001250000059371814.\n",
      "Epoch 20/30\n",
      "22921/22921 [==============================] - 2s 90us/step - loss: 0.5441 - accuracy: 0.7205 - precision_2: 0.6957 - recall_2: 0.6752 - val_loss: 0.5147 - val_accuracy: 0.7414 - val_precision_2: 0.6962 - val_recall_2: 0.6755\n",
      "Epoch 21/30\n",
      "22921/22921 [==============================] - 2s 90us/step - loss: 0.5448 - accuracy: 0.7213 - precision_2: 0.6967 - recall_2: 0.6760 - val_loss: 0.5156 - val_accuracy: 0.7364 - val_precision_2: 0.6972 - val_recall_2: 0.6763\n",
      "Epoch 22/30\n",
      "22921/22921 [==============================] - 2s 101us/step - loss: 0.5474 - accuracy: 0.7195 - precision_2: 0.6976 - recall_2: 0.6764 - val_loss: 0.5176 - val_accuracy: 0.7509 - val_precision_2: 0.6980 - val_recall_2: 0.6769\n",
      "\n",
      "Epoch 00022: ReduceLROnPlateau reducing learning rate to 6.25000029685907e-05.\n",
      "Epoch 23/30\n",
      "22921/22921 [==============================] - 2s 91us/step - loss: 0.5458 - accuracy: 0.7184 - precision_2: 0.6982 - recall_2: 0.6774 - val_loss: 0.5183 - val_accuracy: 0.7516 - val_precision_2: 0.6986 - val_recall_2: 0.6781\n",
      "Epoch 24/30\n",
      "22921/22921 [==============================] - 2s 86us/step - loss: 0.5447 - accuracy: 0.7187 - precision_2: 0.6989 - recall_2: 0.6785 - val_loss: 0.5187 - val_accuracy: 0.7315 - val_precision_2: 0.6992 - val_recall_2: 0.6786\n",
      "\n",
      "Epoch 00024: ReduceLROnPlateau reducing learning rate to 3.125000148429535e-05.\n",
      "Epoch 25/30\n",
      "22921/22921 [==============================] - 2s 83us/step - loss: 0.5451 - accuracy: 0.7214 - precision_2: 0.6997 - recall_2: 0.6787 - val_loss: 0.5145 - val_accuracy: 0.7463 - val_precision_2: 0.7000 - val_recall_2: 0.6790\n",
      "Epoch 26/30\n",
      "22921/22921 [==============================] - 2s 85us/step - loss: 0.5458 - accuracy: 0.7191 - precision_2: 0.7003 - recall_2: 0.6794 - val_loss: 0.5141 - val_accuracy: 0.7470 - val_precision_2: 0.7006 - val_recall_2: 0.6795\n",
      "Epoch 27/30\n",
      "22921/22921 [==============================] - 2s 83us/step - loss: 0.5429 - accuracy: 0.7210 - precision_2: 0.7008 - recall_2: 0.6798 - val_loss: 0.5136 - val_accuracy: 0.7481 - val_precision_2: 0.7011 - val_recall_2: 0.6802\n",
      "Epoch 28/30\n",
      "22921/22921 [==============================] - 2s 95us/step - loss: 0.5467 - accuracy: 0.7191 - precision_2: 0.7013 - recall_2: 0.6806 - val_loss: 0.5139 - val_accuracy: 0.7477 - val_precision_2: 0.7015 - val_recall_2: 0.6809\n",
      "Epoch 29/30\n",
      "22921/22921 [==============================] - 2s 92us/step - loss: 0.5449 - accuracy: 0.7200 - precision_2: 0.7018 - recall_2: 0.6811 - val_loss: 0.5155 - val_accuracy: 0.7470 - val_precision_2: 0.7020 - val_recall_2: 0.6814\n",
      "\n",
      "Epoch 00029: ReduceLROnPlateau reducing learning rate to 1.5625000742147677e-05.\n",
      "Epoch 30/30\n"
     ]
    },
    {
     "name": "stdout",
     "output_type": "stream",
     "text": [
      "22921/22921 [==============================] - 2s 86us/step - loss: 0.5429 - accuracy: 0.7236 - precision_2: 0.7023 - recall_2: 0.6818 - val_loss: 0.5140 - val_accuracy: 0.7470 - val_precision_2: 0.7026 - val_recall_2: 0.6820\n",
      "score    : 51.95\n",
      "Accuracy : 75.23%\n",
      "Precision: 70.27%\n",
      "Recall   : 68.21%\n",
      "F1-Score : 69.23%\n"
     ]
    }
   ],
   "source": [
    "# create the model\n",
    "reduce_lr = keras.callbacks.ReduceLROnPlateau(monitor='val_loss', factor=0.50, patience=2, verbose=1, mode='auto', cooldown=0, min_lr=0.00001)\n",
    "\n",
    "early = keras.callbacks.EarlyStopping(monitor='val_loss', min_delta=0, patience=5, verbose=1, mode='auto')\n",
    "\n",
    "model = Sequential()\n",
    "model.add(LSTM(128,dropout=0.02,recurrent_dropout=0.02,input_shape=(x_train.shape[1],x_train.shape[2])))\n",
    "model.add(Dense(1, activation='sigmoid'))\n",
    "model.compile(loss='binary_crossentropy', optimizer='adam', metrics=['accuracy',tf.keras.metrics.Precision(),tf.keras.metrics.Recall()])\n",
    "print(model.summary())\n",
    "\n",
    "history  = model.fit(np.array(x_train), np.array(y_train),\n",
    " epochs= 30,\n",
    " batch_size = 100,\n",
    " validation_data = (np.array(x_val), np.array(y_val)),\n",
    " callbacks = [reduce_lr, early]\n",
    ")\n",
    "\n",
    "score = model.evaluate(x_test, y_test, verbose = 2)\n",
    "print(\"score    : %.2f\" % (score[0]*100))\n",
    "print(\"Accuracy : %.2f%%\" % (score[1]*100))\n",
    "print(\"Precision: %.2f%%\" % (score[2]*100))\n",
    "print(\"Recall   : %.2f%%\" % (score[3]*100))\n",
    "print(\"F1-Score : %.2f%%\" % ((2*(score[2]*score[3])/(score[2]+score[3]))*100))"
   ]
  },
  {
   "cell_type": "code",
   "execution_count": 37,
   "metadata": {},
   "outputs": [
    {
     "data": {
      "text/plain": [
       "<AxesSubplot:>"
      ]
     },
     "execution_count": 37,
     "metadata": {},
     "output_type": "execute_result"
    },
    {
     "data": {
      "image/png": "[encoded data removed]",
      "text/plain": [
       "<Figure size 432x288 with 1 Axes>"
      ]
     },
     "metadata": {
      "needs_background": "light"
     },
     "output_type": "display_data"
    }
   ],
   "source": [
    "pd.DataFrame(history.history).plot(kind='line')"
   ]
  },
  {
   "cell_type": "markdown",
   "metadata": {},
   "source": [
    "## Bi-Directional LSTM 128 nodes without Dropouts"
   ]
  },
  {
   "cell_type": "code",
   "execution_count": 38,
   "metadata": {},
   "outputs": [
    {
     "name": "stdout",
     "output_type": "stream",
     "text": [
      "Model: \"sequential_5\"\n",
      "_________________________________________________________________\n",
      "Layer (type)                 Output Shape              Param #   \n",
      "=================================================================\n",
      "bidirectional_1 (Bidirection (None, 256)               541696    \n",
      "_________________________________________________________________\n",
      "dense_4 (Dense)              (None, 1)                 257       \n",
      "=================================================================\n",
      "Total params: 541,953\n",
      "Trainable params: 541,953\n",
      "Non-trainable params: 0\n",
      "_________________________________________________________________\n",
      "None\n",
      "Train on 22921 samples, validate on 2834 samples\n",
      "Epoch 1/30\n",
      "22921/22921 [==============================] - 4s 172us/step - loss: 0.6708 - accuracy: 0.5797 - precision_3: 0.5286 - recall_3: 0.3376 - val_loss: 0.6113 - val_accuracy: 0.6955 - val_precision_3: 0.5894 - val_recall_3: 0.4400\n",
      "Epoch 2/30\n",
      "22921/22921 [==============================] - 3s 125us/step - loss: 0.6003 - accuracy: 0.6774 - precision_3: 0.6134 - recall_3: 0.5040 - val_loss: 0.6046 - val_accuracy: 0.6620 - val_precision_3: 0.6317 - val_recall_3: 0.5528\n",
      "Epoch 3/30\n",
      "22921/22921 [==============================] - 3s 116us/step - loss: 0.5537 - accuracy: 0.7155 - precision_3: 0.6453 - recall_3: 0.5864 - val_loss: 0.5566 - val_accuracy: 0.7170 - val_precision_3: 0.6547 - val_recall_3: 0.6070\n",
      "Epoch 4/30\n",
      "22921/22921 [==============================] - 3s 115us/step - loss: 0.5452 - accuracy: 0.7242 - precision_3: 0.6626 - recall_3: 0.6229 - val_loss: 0.5325 - val_accuracy: 0.7399 - val_precision_3: 0.6693 - val_recall_3: 0.6350\n",
      "Epoch 5/30\n",
      "22921/22921 [==============================] - 3s 113us/step - loss: 0.5318 - accuracy: 0.7326 - precision_3: 0.6750 - recall_3: 0.6446 - val_loss: 0.5126 - val_accuracy: 0.7435 - val_precision_3: 0.6805 - val_recall_3: 0.6513\n",
      "Epoch 6/30\n",
      "22921/22921 [==============================] - 3s 111us/step - loss: 0.5326 - accuracy: 0.7291 - precision_3: 0.6839 - recall_3: 0.6555 - val_loss: 0.5460 - val_accuracy: 0.7294 - val_precision_3: 0.6868 - val_recall_3: 0.6616\n",
      "Epoch 7/30\n",
      "22921/22921 [==============================] - 3s 109us/step - loss: 0.5236 - accuracy: 0.7408 - precision_3: 0.6898 - recall_3: 0.6674 - val_loss: 0.6249 - val_accuracy: 0.6733 - val_precision_3: 0.6914 - val_recall_3: 0.6725\n",
      "\n",
      "Epoch 00007: ReduceLROnPlateau reducing learning rate to 0.0005000000237487257.\n",
      "Epoch 8/30\n",
      "22921/22921 [==============================] - 2s 106us/step - loss: 0.5117 - accuracy: 0.7468 - precision_3: 0.6932 - recall_3: 0.6778 - val_loss: 0.5180 - val_accuracy: 0.7255 - val_precision_3: 0.6963 - val_recall_3: 0.6798\n",
      "Epoch 9/30\n",
      "22921/22921 [==============================] - 2s 106us/step - loss: 0.5086 - accuracy: 0.7484 - precision_3: 0.6992 - recall_3: 0.6814 - val_loss: 0.5031 - val_accuracy: 0.7442 - val_precision_3: 0.7017 - val_recall_3: 0.6835\n",
      "Epoch 10/30\n",
      "22921/22921 [==============================] - 3s 110us/step - loss: 0.5068 - accuracy: 0.7513 - precision_3: 0.7040 - recall_3: 0.6857 - val_loss: 0.5795 - val_accuracy: 0.7050 - val_precision_3: 0.7050 - val_recall_3: 0.6887\n",
      "Epoch 11/30\n",
      "22921/22921 [==============================] - 2s 106us/step - loss: 0.5052 - accuracy: 0.7510 - precision_3: 0.7061 - recall_3: 0.6916 - val_loss: 0.5063 - val_accuracy: 0.7530 - val_precision_3: 0.7077 - val_recall_3: 0.6937\n",
      "\n",
      "Epoch 00011: ReduceLROnPlateau reducing learning rate to 0.0002500000118743628.\n",
      "Epoch 12/30\n",
      "22921/22921 [==============================] - 3s 115us/step - loss: 0.5003 - accuracy: 0.7558 - precision_3: 0.7094 - recall_3: 0.6957 - val_loss: 0.4994 - val_accuracy: 0.7498 - val_precision_3: 0.7111 - val_recall_3: 0.6971\n",
      "Epoch 13/30\n",
      "22921/22921 [==============================] - 2s 109us/step - loss: 0.4967 - accuracy: 0.7603 - precision_3: 0.7129 - recall_3: 0.6986 - val_loss: 0.4985 - val_accuracy: 0.7516 - val_precision_3: 0.7144 - val_recall_3: 0.7000\n",
      "Epoch 14/30\n",
      "22921/22921 [==============================] - 3s 129us/step - loss: 0.4973 - accuracy: 0.7580 - precision_3: 0.7159 - recall_3: 0.7013 - val_loss: 0.4987 - val_accuracy: 0.7541 - val_precision_3: 0.7168 - val_recall_3: 0.7027\n",
      "Epoch 15/30\n",
      "22921/22921 [==============================] - 3s 125us/step - loss: 0.4962 - accuracy: 0.7589 - precision_3: 0.7180 - recall_3: 0.7039 - val_loss: 0.4963 - val_accuracy: 0.7526 - val_precision_3: 0.7191 - val_recall_3: 0.7051\n",
      "Epoch 16/30\n",
      "22921/22921 [==============================] - 2s 105us/step - loss: 0.4977 - accuracy: 0.7607 - precision_3: 0.7202 - recall_3: 0.7062 - val_loss: 0.5228 - val_accuracy: 0.7484 - val_precision_3: 0.7210 - val_recall_3: 0.7075\n",
      "Epoch 17/30\n",
      "22921/22921 [==============================] - 2s 102us/step - loss: 0.4935 - accuracy: 0.7630 - precision_3: 0.7218 - recall_3: 0.7090 - val_loss: 0.5001 - val_accuracy: 0.7509 - val_precision_3: 0.7227 - val_recall_3: 0.7101\n",
      "\n",
      "Epoch 00017: ReduceLROnPlateau reducing learning rate to 0.0001250000059371814.\n",
      "Epoch 18/30\n",
      "22921/22921 [==============================] - 2s 107us/step - loss: 0.4925 - accuracy: 0.7624 - precision_3: 0.7235 - recall_3: 0.7111 - val_loss: 0.4959 - val_accuracy: 0.7590 - val_precision_3: 0.7244 - val_recall_3: 0.7120\n",
      "Epoch 19/30\n",
      "22921/22921 [==============================] - 2s 109us/step - loss: 0.4911 - accuracy: 0.7632 - precision_3: 0.7252 - recall_3: 0.7129 - val_loss: 0.4966 - val_accuracy: 0.7548 - val_precision_3: 0.7259 - val_recall_3: 0.7137\n",
      "Epoch 20/30\n",
      "22921/22921 [==============================] - 2s 105us/step - loss: 0.4939 - accuracy: 0.7615 - precision_3: 0.7267 - recall_3: 0.7145 - val_loss: 0.4965 - val_accuracy: 0.7534 - val_precision_3: 0.7272 - val_recall_3: 0.7152\n",
      "\n",
      "Epoch 00020: ReduceLROnPlateau reducing learning rate to 6.25000029685907e-05.\n",
      "Epoch 21/30\n",
      "22921/22921 [==============================] - 2s 106us/step - loss: 0.4892 - accuracy: 0.7652 - precision_3: 0.7279 - recall_3: 0.7161 - val_loss: 0.4961 - val_accuracy: 0.7551 - val_precision_3: 0.7285 - val_recall_3: 0.7167\n",
      "Epoch 22/30\n",
      "22921/22921 [==============================] - 2s 102us/step - loss: 0.4894 - accuracy: 0.7628 - precision_3: 0.7290 - recall_3: 0.7173 - val_loss: 0.4936 - val_accuracy: 0.7548 - val_precision_3: 0.7298 - val_recall_3: 0.7178\n",
      "Epoch 23/30\n",
      "22921/22921 [==============================] - 2s 107us/step - loss: 0.4893 - accuracy: 0.7655 - precision_3: 0.7305 - recall_3: 0.7183 - val_loss: 0.4953 - val_accuracy: 0.7565 - val_precision_3: 0.7310 - val_recall_3: 0.7188\n",
      "Epoch 24/30\n",
      "22921/22921 [==============================] - 2s 104us/step - loss: 0.4895 - accuracy: 0.7651 - precision_3: 0.7315 - recall_3: 0.7193 - val_loss: 0.4933 - val_accuracy: 0.7551 - val_precision_3: 0.7321 - val_recall_3: 0.7199\n",
      "Epoch 25/30\n",
      "22921/22921 [==============================] - 2s 106us/step - loss: 0.4898 - accuracy: 0.7636 - precision_3: 0.7326 - recall_3: 0.7203 - val_loss: 0.4929 - val_accuracy: 0.7569 - val_precision_3: 0.7331 - val_recall_3: 0.7206\n",
      "Epoch 26/30\n",
      "22921/22921 [==============================] - 2s 108us/step - loss: 0.4890 - accuracy: 0.7642 - precision_3: 0.7335 - recall_3: 0.7210 - val_loss: 0.4931 - val_accuracy: 0.7572 - val_precision_3: 0.7340 - val_recall_3: 0.7214\n",
      "Epoch 27/30\n",
      "22921/22921 [==============================] - 3s 112us/step - loss: 0.4891 - accuracy: 0.7662 - precision_3: 0.7344 - recall_3: 0.7219 - val_loss: 0.4925 - val_accuracy: 0.7565 - val_precision_3: 0.7349 - val_recall_3: 0.7223\n",
      "Epoch 28/30\n",
      "22921/22921 [==============================] - 3s 110us/step - loss: 0.4884 - accuracy: 0.7653 - precision_3: 0.7353 - recall_3: 0.7227 - val_loss: 0.4952 - val_accuracy: 0.7565 - val_precision_3: 0.7356 - val_recall_3: 0.7232\n",
      "Epoch 29/30\n",
      "22921/22921 [==============================] - 3s 111us/step - loss: 0.4882 - accuracy: 0.7661 - precision_3: 0.7360 - recall_3: 0.7236 - val_loss: 0.4920 - val_accuracy: 0.7572 - val_precision_3: 0.7364 - val_recall_3: 0.7240\n",
      "Epoch 30/30\n",
      "22921/22921 [==============================] - 2s 107us/step - loss: 0.4884 - accuracy: 0.7657 - precision_3: 0.7367 - recall_3: 0.7242 - val_loss: 0.4951 - val_accuracy: 0.7558 - val_precision_3: 0.7370 - val_recall_3: 0.7246\n",
      "score    : 50.17\n",
      "Accuracy : 76.10%\n",
      "Precision: 73.70%\n",
      "Recall   : 72.48%\n",
      "F1-Score : 73.09%\n"
     ]
    }
   ],
   "source": [
    "# create the model\n",
    "reduce_lr = keras.callbacks.ReduceLROnPlateau(monitor='val_loss', factor=0.50, patience=2, verbose=1, mode='auto', cooldown=0, min_lr=0.00001)\n",
    "\n",
    "early = keras.callbacks.EarlyStopping(monitor='val_loss', min_delta=0, patience=5, verbose=1, mode='auto')\n",
    "\n",
    "model = Sequential()\n",
    "model.add(Bidirectional(LSTM(128),input_shape=(x_train.shape[1],x_train.shape[2])))\n",
    "model.add(Dense(1, activation='sigmoid'))\n",
    "model.compile(loss='binary_crossentropy', optimizer='adam', metrics=['accuracy',tf.keras.metrics.Precision(),tf.keras.metrics.Recall()])\n",
    "print(model.summary())\n",
    "\n",
    "history  = model.fit(np.array(x_train), np.array(y_train),\n",
    " epochs= 30,\n",
    " batch_size = 100,\n",
    " validation_data = (np.array(x_val), np.array(y_val)),\n",
    " callbacks = [reduce_lr, early]\n",
    ")\n",
    "\n",
    "score = model.evaluate(x_test, y_test, verbose = 2)\n",
    "print(\"score    : %.2f\" % (score[0]*100))\n",
    "print(\"Accuracy : %.2f%%\" % (score[1]*100))\n",
    "print(\"Precision: %.2f%%\" % (score[2]*100))\n",
    "print(\"Recall   : %.2f%%\" % (score[3]*100))\n",
    "print(\"F1-Score : %.2f%%\" % ((2*(score[2]*score[3])/(score[2]+score[3]))*100))"
   ]
  },
  {
   "cell_type": "code",
   "execution_count": 39,
   "metadata": {},
   "outputs": [
    {
     "data": {
      "text/plain": [
       "<AxesSubplot:>"
      ]
     },
     "execution_count": 39,
     "metadata": {},
     "output_type": "execute_result"
    },
    {
     "data": {
      "image/png": "[encoded data removed]",
      "text/plain": [
       "<Figure size 432x288 with 1 Axes>"
      ]
     },
     "metadata": {
      "needs_background": "light"
     },
     "output_type": "display_data"
    }
   ],
   "source": [
    "pd.DataFrame(history.history).plot(kind='line')"
   ]
  },
  {
   "cell_type": "code",
   "execution_count": null,
   "metadata": {},
   "outputs": [],
   "source": []
  }
 ],
 "metadata": {
  "kernelspec": {
   "display_name": "Python 3",
   "language": "python",
   "name": "python3"
  },
  "language_info": {
   "codemirror_mode": {
    "name": "ipython",
    "version": 3
   },
   "file_extension": ".py",
   "mimetype": "text/x-python",
   "name": "python",
   "nbconvert_exporter": "python",
   "pygments_lexer": "ipython3",
   "version": "3.7.9"
  }
 },
 "nbformat": 4,
 "nbformat_minor": 2
}
