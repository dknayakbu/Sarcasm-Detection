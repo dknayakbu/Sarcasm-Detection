{
 "cells": [
  {
   "cell_type": "code",
   "execution_count": 1,
   "metadata": {},
   "outputs": [],
   "source": [
    "import pandas as pd\n",
    "import numpy as np\n",
    "import re\n",
    "\n",
    "from nltk.stem import WordNetLemmatizer\n",
    "from nltk.tokenize import word_tokenize\n",
    "from nltk.corpus import stopwords\n",
    "from nltk import pos_tag\n",
    "from collections import defaultdict\n",
    "from nltk.corpus import wordnet as wn\n",
    "import matplotlib.pyplot as plt\n",
    "from sklearn import metrics"
   ]
  },
  {
   "cell_type": "markdown",
   "metadata": {},
   "source": [
    "## Read the Datasets"
   ]
  },
  {
   "cell_type": "code",
   "execution_count": 2,
   "metadata": {},
   "outputs": [],
   "source": [
    "df=pd.read_json(r\"./../../Dataset/Sarcasm_Headlines_Dataset_v2/Sarcasm_Headlines_Dataset_v2.json\",lines=True)"
   ]
  },
  {
   "cell_type": "code",
   "execution_count": 3,
   "metadata": {},
   "outputs": [
    {
     "data": {
      "text/plain": [
       "(28619, 3)"
      ]
     },
     "execution_count": 3,
     "metadata": {},
     "output_type": "execute_result"
    }
   ],
   "source": [
    "df.shape"
   ]
  },
  {
   "cell_type": "code",
   "execution_count": 4,
   "metadata": {},
   "outputs": [
    {
     "data": {
      "text/plain": [
       "Index(['is_sarcastic', 'headline', 'article_link'], dtype='object')"
      ]
     },
     "execution_count": 4,
     "metadata": {},
     "output_type": "execute_result"
    }
   ],
   "source": [
    "df.columns"
   ]
  },
  {
   "cell_type": "code",
   "execution_count": 5,
   "metadata": {},
   "outputs": [
    {
     "data": {
      "text/plain": [
       "0    14985\n",
       "1    13634\n",
       "Name: is_sarcastic, dtype: int64"
      ]
     },
     "execution_count": 5,
     "metadata": {},
     "output_type": "execute_result"
    }
   ],
   "source": [
    "df['is_sarcastic'].value_counts()"
   ]
  },
  {
   "cell_type": "code",
   "execution_count": 6,
   "metadata": {},
   "outputs": [
    {
     "data": {
      "text/plain": [
       "is_sarcastic    0\n",
       "headline        0\n",
       "article_link    0\n",
       "dtype: int64"
      ]
     },
     "execution_count": 6,
     "metadata": {},
     "output_type": "execute_result"
    }
   ],
   "source": [
    "#Check for any null values int he dataset\n",
    "df.isnull().sum()"
   ]
  },
  {
   "cell_type": "code",
   "execution_count": 7,
   "metadata": {},
   "outputs": [],
   "source": [
    "# Check for any duplicate rows"
   ]
  },
  {
   "cell_type": "code",
   "execution_count": 8,
   "metadata": {},
   "outputs": [
    {
     "data": {
      "text/plain": [
       "28617"
      ]
     },
     "execution_count": 8,
     "metadata": {},
     "output_type": "execute_result"
    }
   ],
   "source": [
    "df['article_link'].nunique()"
   ]
  },
  {
   "cell_type": "code",
   "execution_count": 9,
   "metadata": {},
   "outputs": [
    {
     "data": {
      "text/plain": [
       "2"
      ]
     },
     "execution_count": 9,
     "metadata": {},
     "output_type": "execute_result"
    }
   ],
   "source": [
    "#There are 2 duplicate rows\n",
    "df.duplicated().sum()"
   ]
  },
  {
   "cell_type": "code",
   "execution_count": 10,
   "metadata": {},
   "outputs": [],
   "source": [
    "#Remove duplicate rows\n",
    "df.drop_duplicates(keep='first', inplace=True)\n",
    "df.reset_index(inplace=True)"
   ]
  },
  {
   "cell_type": "code",
   "execution_count": 11,
   "metadata": {},
   "outputs": [
    {
     "data": {
      "text/plain": [
       "0"
      ]
     },
     "execution_count": 11,
     "metadata": {},
     "output_type": "execute_result"
    }
   ],
   "source": [
    "#No duplicated found\n",
    "df.duplicated().sum()"
   ]
  },
  {
   "cell_type": "markdown",
   "metadata": {},
   "source": [
    "## Data Cleaning"
   ]
  },
  {
   "cell_type": "markdown",
   "metadata": {},
   "source": [
    "## Step 1:\n",
    "### Remove Special Characters\n",
    "### Check if numbers are required\n",
    "### Remove anomalies like 1a 2b"
   ]
  },
  {
   "cell_type": "code",
   "execution_count": 12,
   "metadata": {},
   "outputs": [
    {
     "name": "stdout",
     "output_type": "stream",
     "text": [
      "Wall time: 278 ms\n"
     ]
    }
   ],
   "source": [
    "%%time\n",
    "df1=df.copy()\n",
    "\n",
    "#Remove all single letter words\n",
    "df1['headline']=df1['headline'].apply(lambda x: re.sub(r\"[^\\w\\s]\",\" \",str(x)))\n",
    "\n",
    "#Remove all numbers\n",
    "df1['headline']=df1['headline'].apply(lambda x: re.sub(r'\\d',\"\",str(x)))\n",
    "\n",
    "#Remove word anomalies\n",
    "df1['headline']=df1['headline'].apply(lambda x: re.sub(r'\\d{1}[a-z]',\"\",str(x)))\n",
    "\n",
    "#Remove extra spaces\n",
    "df1['headline']=df1['headline'].apply(lambda x: \" \".join(x.split()))"
   ]
  },
  {
   "cell_type": "markdown",
   "metadata": {},
   "source": [
    "## Step 2:\n",
    "### Convert to lower case\n",
    "### Remove Stopwords and special words that need to be removed\n",
    "### Perform Lemmatization"
   ]
  },
  {
   "cell_type": "code",
   "execution_count": 13,
   "metadata": {},
   "outputs": [
    {
     "name": "stdout",
     "output_type": "stream",
     "text": [
      "Wall time: 46.3 s\n"
     ]
    }
   ],
   "source": [
    "%%time\n",
    "stop=set(stopwords.words('english'))\n",
    "#Update any words that we want to remove here\n",
    "custom_list=['nan']\n",
    "stop.update(custom_list)\n",
    "\n",
    "tadDict = defaultdict(lambda : wn.NOUN)\n",
    "tadDict['J'] = wn.ADJ\n",
    "tadDict['V'] = wn.VERB\n",
    "tadDict['R'] = wn.ADV\n",
    "\n",
    "#Convert to lower case\n",
    "df1['headline']=df1['headline'].apply(lambda x: x.lower())\n",
    "\n",
    "#Remove stopwords\n",
    "# df1['headline']=df1['headline'].apply(lambda x: \" \".join([i for i in word_tokenize(x) if i.casefold() not in map(str.casefold,stop)]))\n",
    "\n",
    "#Perform Lemmatization\n",
    "df1['headline']=df1['headline'].apply(lambda x: \" \".join(WordNetLemmatizer().lemmatize(word,tadDict[tag[0]]) for word,tag in pos_tag(word_tokenize(x))))\n",
    "\n",
    "#Remove all single letter words\n",
    "df1['headline']=df1['headline'].apply(lambda x: re.sub(r\"( [a-z]{1} )|(^[a-z]{1} )|( [a-z]{1}$)\",\" \",str(x)))\n",
    "\n",
    "#Remove extra spaces\n",
    "df1['headline']=df1['headline'].apply(lambda x: \" \".join(x.split()))"
   ]
  },
  {
   "cell_type": "code",
   "execution_count": 14,
   "metadata": {},
   "outputs": [],
   "source": [
    "df_cleaned=df1.copy()"
   ]
  },
  {
   "cell_type": "code",
   "execution_count": 15,
   "metadata": {},
   "outputs": [
    {
     "data": {
      "text/plain": [
       "\"richard branson's global-warming donation nearly as much as cost of failed balloon trips\""
      ]
     },
     "execution_count": 15,
     "metadata": {},
     "output_type": "execute_result"
    }
   ],
   "source": [
    "df['headline'][7]"
   ]
  },
  {
   "cell_type": "code",
   "execution_count": 16,
   "metadata": {},
   "outputs": [
    {
     "data": {
      "text/plain": [
       "'richard branson global warm donation nearly as much cost of failed balloon trip'"
      ]
     },
     "execution_count": 16,
     "metadata": {},
     "output_type": "execute_result"
    }
   ],
   "source": [
    "df_cleaned['headline'][7]"
   ]
  },
  {
   "cell_type": "code",
   "execution_count": 17,
   "metadata": {},
   "outputs": [],
   "source": [
    "# Removing records that are having Null after cleaning.\n",
    "df_cleaned=df_cleaned[df_cleaned['headline'].apply(lambda x: len(x)) > 0]"
   ]
  },
  {
   "cell_type": "code",
   "execution_count": 18,
   "metadata": {},
   "outputs": [
    {
     "data": {
      "text/plain": [
       "[('to', 9107), ('of', 6295), ('the', 5535), ('in', 4599)]"
      ]
     },
     "execution_count": 18,
     "metadata": {},
     "output_type": "execute_result"
    }
   ],
   "source": [
    "from collections import Counter\n",
    "corpus=\" \".join(df_cleaned['headline'])\n",
    "corpus_split=corpus.split()\n",
    "Counter=Counter(corpus_split)\n",
    "most_occur = Counter.most_common(4)\n",
    "most_occur"
   ]
  },
  {
   "cell_type": "markdown",
   "metadata": {},
   "source": [
    "### Create Word Embeddings using Word2Vec"
   ]
  },
  {
   "cell_type": "code",
   "execution_count": 19,
   "metadata": {},
   "outputs": [],
   "source": [
    "from sklearn import preprocessing\n",
    "from sklearn.model_selection import train_test_split\n",
    "from sklearn import linear_model\n",
    "from sklearn.naive_bayes import MultinomialNB, GaussianNB\n",
    "from sklearn.svm import SVC\n",
    "from sklearn.neural_network import MLPClassifier\n",
    "from sklearn.linear_model import SGDClassifier\n",
    "from sklearn.ensemble import RandomForestClassifier, VotingClassifier\n",
    "from sklearn.metrics import precision_score, accuracy_score, recall_score, f1_score\n",
    "from sklearn.decomposition import TruncatedSVD\n",
    "\n",
    "import gensim\n",
    "from gensim import corpora\n",
    "from gensim import models\n",
    "from gensim import similarities\n",
    "\n",
    "from gensim.models import Word2Vec\n",
    "from multiprocessing import cpu_count"
   ]
  },
  {
   "cell_type": "code",
   "execution_count": 20,
   "metadata": {},
   "outputs": [],
   "source": [
    "def read_corpus(df):\n",
    "    for i in df['headline']:\n",
    "        tokens=gensim.utils.simple_preprocess(i)\n",
    "        yield tokens\n",
    "    \n",
    "train_corpus=list(read_corpus(df_cleaned))"
   ]
  },
  {
   "cell_type": "code",
   "execution_count": 21,
   "metadata": {},
   "outputs": [
    {
     "data": {
      "text/plain": [
       "(1241522, 1411750)"
      ]
     },
     "execution_count": 21,
     "metadata": {},
     "output_type": "execute_result"
    }
   ],
   "source": [
    "size=200\n",
    "model=gensim.models.word2vec.Word2Vec(size=size,min_count=1,hs=1,sg=1,window=8,workers=cpu_count())\n",
    "model.init_sims(replace=True)\n",
    "\n",
    "model.build_vocab(train_corpus)\n",
    "model.train(train_corpus,total_examples=model.corpus_count,epochs=model.epochs)"
   ]
  },
  {
   "cell_type": "markdown",
   "metadata": {},
   "source": [
    "### Creating Sentence Vectors\n",
    "\n",
    "Word2Vec gives us embeddings for a particular word. But we need to embedding for whole sentence(s).\n",
    "\n",
    "So, to convert the embedding for word to sentence we take the sum of all the words present in a sentence and divide it by the total number of unique words in that sentence. It is like taking average vector for the whole sentence using each vector of the word.\n",
    "\n",
    "    For each row or sentence:\n",
    "        - Append all the word vectors to form a matrix with size (# of words,vector size)\n",
    "        - Take column wise sum of the matrix created\n",
    "        - Divide the sum by number of the unique words in that row or sentence"
   ]
  },
  {
   "cell_type": "code",
   "execution_count": 22,
   "metadata": {},
   "outputs": [],
   "source": [
    "def sentence_vector(sentence,model):\n",
    "    sent_vec=[]\n",
    "    for i in sentence:\n",
    "        aa=[]\n",
    "        tokens=gensim.utils.simple_preprocess(i)\n",
    "        nunique_words=len(set(i.split()))\n",
    "        for j in tokens:\n",
    "            aa.append(model.wv[j])\n",
    "        bb=pd.DataFrame(aa)\n",
    "        cc=bb.sum(axis=0)/nunique_words\n",
    "        sent_vec.append(cc)\n",
    "    \n",
    "    return pd.DataFrame(sent_vec)"
   ]
  },
  {
   "cell_type": "code",
   "execution_count": 23,
   "metadata": {},
   "outputs": [
    {
     "name": "stdout",
     "output_type": "stream",
     "text": [
      "Wall time: 5min 23s\n"
     ]
    },
    {
     "data": {
      "text/plain": [
       "(28617, 200)"
      ]
     },
     "execution_count": 23,
     "metadata": {},
     "output_type": "execute_result"
    }
   ],
   "source": [
    "%%time\n",
    "headlines_vec=sentence_vector(df_cleaned['headline'],model)\n",
    "min_max_scaler = preprocessing.MinMaxScaler()\n",
    "headlines_vec = min_max_scaler.fit_transform(headlines_vec)\n",
    "headlines_vec.shape"
   ]
  },
  {
   "cell_type": "code",
   "execution_count": 24,
   "metadata": {},
   "outputs": [],
   "source": [
    "is_sarcastic=df_cleaned['is_sarcastic']"
   ]
  },
  {
   "cell_type": "markdown",
   "metadata": {},
   "source": [
    "## Creating Test Training Split"
   ]
  },
  {
   "cell_type": "code",
   "execution_count": 25,
   "metadata": {},
   "outputs": [],
   "source": [
    "#training and test data splits\n",
    "from sklearn.model_selection import train_test_split\n",
    "x_train, x_test, y_train, y_test = train_test_split(headlines_vec, is_sarcastic, test_size = 0.25, random_state = 0)"
   ]
  },
  {
   "cell_type": "code",
   "execution_count": 26,
   "metadata": {},
   "outputs": [
    {
     "name": "stdout",
     "output_type": "stream",
     "text": [
      "(21462, 200)\n",
      "(7155, 200)\n",
      "(21462,)\n",
      "(7155,)\n"
     ]
    }
   ],
   "source": [
    "print(x_train.shape)\n",
    "print(x_test.shape)\n",
    "print(y_train.shape)\n",
    "print(y_test.shape)"
   ]
  },
  {
   "cell_type": "markdown",
   "metadata": {},
   "source": [
    "# Classification Task"
   ]
  },
  {
   "cell_type": "markdown",
   "metadata": {},
   "source": [
    "## Naive Bayes classifier"
   ]
  },
  {
   "cell_type": "code",
   "execution_count": 27,
   "metadata": {},
   "outputs": [],
   "source": [
    "#Naive Bayes classifier\n",
    "def test_NaiveBayes(x_train, x_test, y_train, y_test):\n",
    "    MNB = GaussianNB()\n",
    "    NBClassifier = MNB.fit(x_train, y_train)\n",
    "    predictions = NBClassifier.predict(x_test)\n",
    "    a = accuracy_score(y_test, predictions)\n",
    "    p = precision_score(y_test, predictions, average = 'weighted')\n",
    "    r = recall_score(y_test, predictions, average = 'weighted')\n",
    "    f = f1_score(y_test, predictions, average = 'weighted')\n",
    "    return a, p, r, f"
   ]
  },
  {
   "cell_type": "code",
   "execution_count": 28,
   "metadata": {},
   "outputs": [
    {
     "name": "stdout",
     "output_type": "stream",
     "text": [
      "Accuracy = 0.76617749825297\n",
      "Precision= 0.7712038538016732\n",
      "Recall   = 0.76617749825297\n",
      "F1 Score = 0.766128453092362\n",
      "Wall time: 142 ms\n"
     ]
    }
   ],
   "source": [
    "%%time\n",
    "#Tesiting Naive-Bayes classifier\n",
    "accuracy, precision, recall, f1 = test_NaiveBayes(x_train, x_test, y_train, y_test)\n",
    "print(\"Accuracy =\",accuracy)\n",
    "print(\"Precision=\",precision)\n",
    "print(\"Recall   =\",recall)\n",
    "print(\"F1 Score =\",f1)"
   ]
  },
  {
   "cell_type": "markdown",
   "metadata": {},
   "source": [
    "## Logistic Regression Classifier"
   ]
  },
  {
   "cell_type": "code",
   "execution_count": 40,
   "metadata": {},
   "outputs": [],
   "source": [
    "from sklearn.linear_model import LogisticRegression\n",
    "def test_LogisticRegression(x_train, x_test, y_train, y_test):\n",
    "    model = LogisticRegression(class_weight='balanced',solver=\"liblinear\",max_iter=300, C=1e7)\n",
    "    model.fit(x_train, y_train)\n",
    "    predictions = model.predict(x_test)\n",
    "    a = accuracy_score(y_test, predictions)\n",
    "    p = precision_score(y_test, predictions, average = 'weighted')\n",
    "    r = recall_score(y_test, predictions, average = 'weighted')\n",
    "    f = f1_score(y_test, predictions, average = 'weighted')\n",
    "    return a, p, r, f"
   ]
  },
  {
   "cell_type": "code",
   "execution_count": 41,
   "metadata": {},
   "outputs": [
    {
     "name": "stdout",
     "output_type": "stream",
     "text": [
      "Accuracy = 0.8018169112508735\n",
      "Precision= 0.8030974587204962\n",
      "Recall   = 0.8018169112508735\n",
      "F1 Score = 0.801961051186035\n",
      "Wall time: 22.4 s\n"
     ]
    }
   ],
   "source": [
    "%%time\n",
    "#Tesiting Logistic Regression classifier\n",
    "accuracy, precision, recall, f1 = test_LogisticRegression(x_train, x_test, y_train, y_test)\n",
    "print(\"Accuracy =\",accuracy)\n",
    "print(\"Precision=\",precision)\n",
    "print(\"Recall   =\",recall)\n",
    "print(\"F1 Score =\",f1)"
   ]
  },
  {
   "cell_type": "markdown",
   "metadata": {},
   "source": [
    "## Multilayer Perceptron classfier"
   ]
  },
  {
   "cell_type": "code",
   "execution_count": 32,
   "metadata": {},
   "outputs": [],
   "source": [
    "#Multilayer Perceptron classfier\n",
    "def test_NN(x_train, x_test, y_train, y_test):\n",
    "    NN = MLPClassifier(solver = 'adam', alpha = 0.00095, learning_rate = 'adaptive', learning_rate_init = 0.01, max_iter = 300, random_state = 0)\n",
    "    Perceptron = NN.fit(x_train, y_train)\n",
    "    predictions = Perceptron.predict(x_test)\n",
    "    a = accuracy_score(y_test, predictions)\n",
    "    p = precision_score(y_test, predictions, average = 'weighted')\n",
    "    r = recall_score(y_test, predictions, average = 'weighted')\n",
    "    f = f1_score(y_test, predictions, average = 'weighted')\n",
    "    return a, p, r, f"
   ]
  },
  {
   "cell_type": "code",
   "execution_count": 33,
   "metadata": {},
   "outputs": [
    {
     "name": "stdout",
     "output_type": "stream",
     "text": [
      "Accuracy = 0.797204751921733\n",
      "Precision= 0.7978915898674603\n",
      "Recall   = 0.797204751921733\n",
      "F1 Score = 0.796572427359978\n",
      "Wall time: 16 s\n"
     ]
    }
   ],
   "source": [
    "%%time\n",
    "#Testing NN classifier\n",
    "accuracy, precision, recall, f1 = test_NN(x_train, x_test, y_train, y_test)\n",
    "print(\"Accuracy =\",accuracy)\n",
    "print(\"Precision=\",precision)\n",
    "print(\"Recall   =\",recall)\n",
    "print(\"F1 Score =\",f1)"
   ]
  },
  {
   "cell_type": "markdown",
   "metadata": {},
   "source": [
    "## SVM classifier"
   ]
  },
  {
   "cell_type": "code",
   "execution_count": 34,
   "metadata": {},
   "outputs": [],
   "source": [
    "#SVM classifier\n",
    "def test_SVM(x_train, x_test, y_train, y_test):\n",
    "    SVM = SVC(kernel = 'linear')\n",
    "    SVMClassifier = SVM.fit(x_train, y_train)\n",
    "    predictions = SVMClassifier.predict(x_test)\n",
    "    a = accuracy_score(y_test, predictions)\n",
    "    p = precision_score(y_test, predictions, average = 'weighted')\n",
    "    r = recall_score(y_test, predictions, average = 'weighted')\n",
    "    f = f1_score(y_test, predictions, average = 'weighted')\n",
    "    return a, p, r, f"
   ]
  },
  {
   "cell_type": "code",
   "execution_count": 35,
   "metadata": {},
   "outputs": [
    {
     "name": "stdout",
     "output_type": "stream",
     "text": [
      "Accuracy = 0.7976240391334731\n",
      "Precision= 0.7984333483495465\n",
      "Recall   = 0.7976240391334731\n",
      "F1 Score = 0.7977572702712377\n",
      "Wall time: 1min 24s\n"
     ]
    }
   ],
   "source": [
    "%%time\n",
    "#Testing SVM classifier\n",
    "accuracy, precision, recall, f1 = test_SVM(x_train, x_test, y_train, y_test)\n",
    "print(\"Accuracy =\",accuracy)\n",
    "print(\"Precision=\",precision)\n",
    "print(\"Recall   =\",recall)\n",
    "print(\"F1 Score =\",f1)"
   ]
  },
  {
   "cell_type": "markdown",
   "metadata": {},
   "source": [
    "## Extreme Learning Machine (ELM)"
   ]
  },
  {
   "cell_type": "code",
   "execution_count": 36,
   "metadata": {},
   "outputs": [
    {
     "name": "stdout",
     "output_type": "stream",
     "text": [
      "Wall time: 6.12 s\n"
     ]
    }
   ],
   "source": [
    "%%time\n",
    "input_size = x_train.shape[1]\n",
    "hidden_size = 1000\n",
    "input_weights = np.random.uniform(low=0, high=1,size=[input_size,hidden_size])\n",
    "biases = np.random.uniform(low=0, high=1,size=[hidden_size])\n",
    "\n",
    "def relu(x):\n",
    "    return np.maximum(x, 0, x)\n",
    "\n",
    "def hidden_nodes(X):\n",
    "    G = np.dot(X, input_weights)\n",
    "    G = G + biases\n",
    "    H = relu(G)\n",
    "    return H\n",
    "\n",
    "output_weights = np.dot(np.linalg.pinv(hidden_nodes(x_train)), y_train)\n",
    "\n",
    "def predict(X):\n",
    "    out = hidden_nodes(X)\n",
    "    out = np.dot(out, output_weights)\n",
    "    return out\n",
    "\n",
    "prediction = predict(x_test)\n",
    "# Applying Sigmoidal Activation function\n",
    "y_pred=[1/(1+np.exp(-x)) for x in prediction]"
   ]
  },
  {
   "cell_type": "code",
   "execution_count": 37,
   "metadata": {},
   "outputs": [],
   "source": [
    "acc=[]\n",
    "prec=[]\n",
    "rec=[]\n",
    "for i in [0.1, 0.2, 0.3, 0.4, 0.5, 0.6, 0.7, 0.8, 0.9, 1. ]:\n",
    "    y_pred=[1 if x>=i else 0 for x in prediction]\n",
    "    acc.append(metrics.accuracy_score(y_test, y_pred))\n",
    "    prec.append(metrics.precision_score(y_test, y_pred))\n",
    "    rec.append(metrics.recall_score(y_test, y_pred))"
   ]
  },
  {
   "cell_type": "code",
   "execution_count": 38,
   "metadata": {},
   "outputs": [
    {
     "data": {
      "image/png": "[encoded data removed]",
      "text/plain": [
       "<Figure size 432x288 with 1 Axes>"
      ]
     },
     "metadata": {
      "needs_background": "light"
     },
     "output_type": "display_data"
    }
   ],
   "source": [
    "plt.plot(np.arange(0.1,1.1,0.1),acc,label=\"Accuracy\")\n",
    "plt.plot(np.arange(0.1,1.1,0.1),prec,label=\"Precision\")\n",
    "plt.plot(np.arange(0.1,1.1,0.1),rec,label=\"Recall\")\n",
    "plt.xlabel('Cutoff value')\n",
    "plt.ylabel('Values')\n",
    "plt.legend()\n",
    "plt.show()"
   ]
  },
  {
   "cell_type": "code",
   "execution_count": 39,
   "metadata": {},
   "outputs": [
    {
     "name": "stdout",
     "output_type": "stream",
     "text": [
      "Accuracy: 0.8013976240391335\n",
      "Precision: 0.779549985759043\n",
      "Recall: 0.808806146572104\n",
      "F1-Score: 0.7939086294416244\n"
     ]
    }
   ],
   "source": [
    "y_pred=[1 if x>=0.5 else 0 for x in prediction]\n",
    "\n",
    "# Model Accuracy: how often is the classifier correct?\n",
    "print(\"Accuracy:\",metrics.accuracy_score(y_test, y_pred))\n",
    "\n",
    "# Model Precision: what percentage of positive tuples are labeled as such?\n",
    "print(\"Precision:\",metrics.precision_score(y_test, y_pred))\n",
    "\n",
    "# Model Recall: what percentage of positive tuples are labelled as such?\n",
    "print(\"Recall:\",metrics.recall_score(y_test, y_pred))\n",
    "\n",
    "# Model F1-Score\n",
    "print(\"F1-Score:\",metrics.f1_score(y_test, y_pred))"
   ]
  },
  {
   "cell_type": "code",
   "execution_count": null,
   "metadata": {},
   "outputs": [],
   "source": []
  }
 ],
 "metadata": {
  "kernelspec": {
   "display_name": "Python 3",
   "language": "python",
   "name": "python3"
  },
  "language_info": {
   "codemirror_mode": {
    "name": "ipython",
    "version": 3
   },
   "file_extension": ".py",
   "mimetype": "text/x-python",
   "name": "python",
   "nbconvert_exporter": "python",
   "pygments_lexer": "ipython3",
   "version": "3.7.9"
  }
 },
 "nbformat": 4,
 "nbformat_minor": 2
}
