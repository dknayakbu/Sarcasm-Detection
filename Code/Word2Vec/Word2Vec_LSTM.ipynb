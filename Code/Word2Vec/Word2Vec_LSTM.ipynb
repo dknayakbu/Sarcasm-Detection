{
 "cells": [
  {
   "cell_type": "code",
   "execution_count": 1,
   "metadata": {},
   "outputs": [
    {
     "name": "stderr",
     "output_type": "stream",
     "text": [
      "Using TensorFlow backend.\n"
     ]
    }
   ],
   "source": [
    "import pandas as pd\n",
    "import numpy as np\n",
    "import re\n",
    "\n",
    "from nltk.stem import WordNetLemmatizer\n",
    "from nltk.tokenize import word_tokenize\n",
    "from nltk.corpus import stopwords\n",
    "from nltk import pos_tag\n",
    "from collections import defaultdict\n",
    "from nltk.corpus import wordnet as wn\n",
    "\n",
    "import warnings\n",
    "import keras\n",
    "from keras import models\n",
    "from keras.models import Sequential\n",
    "from keras import layers\n",
    "from keras.layers import Embedding, Bidirectional, Dense, LSTM, Conv1D, MaxPooling1D, Flatten, Reshape, TimeDistributed, Dropout\n",
    "from keras import optimizers\n",
    "from keras.callbacks import EarlyStopping\n",
    "import tensorflow as tf\n",
    "warnings.filterwarnings('ignore')\n",
    "\n",
    "import matplotlib.pyplot as plt\n",
    "from sklearn import metrics"
   ]
  },
  {
   "cell_type": "markdown",
   "metadata": {},
   "source": [
    "## Read the Datasets"
   ]
  },
  {
   "cell_type": "code",
   "execution_count": 2,
   "metadata": {},
   "outputs": [],
   "source": [
    "df=pd.read_json(r\"./../../Dataset/Sarcasm_Headlines_Dataset_v2/Sarcasm_Headlines_Dataset_v2.json\",lines=True)"
   ]
  },
  {
   "cell_type": "code",
   "execution_count": 3,
   "metadata": {},
   "outputs": [
    {
     "data": {
      "text/plain": [
       "(28619, 3)"
      ]
     },
     "execution_count": 3,
     "metadata": {},
     "output_type": "execute_result"
    }
   ],
   "source": [
    "df.shape"
   ]
  },
  {
   "cell_type": "code",
   "execution_count": 4,
   "metadata": {},
   "outputs": [
    {
     "data": {
      "text/plain": [
       "Index(['is_sarcastic', 'headline', 'article_link'], dtype='object')"
      ]
     },
     "execution_count": 4,
     "metadata": {},
     "output_type": "execute_result"
    }
   ],
   "source": [
    "df.columns"
   ]
  },
  {
   "cell_type": "code",
   "execution_count": 5,
   "metadata": {},
   "outputs": [
    {
     "data": {
      "text/plain": [
       "0    14985\n",
       "1    13634\n",
       "Name: is_sarcastic, dtype: int64"
      ]
     },
     "execution_count": 5,
     "metadata": {},
     "output_type": "execute_result"
    }
   ],
   "source": [
    "df['is_sarcastic'].value_counts()"
   ]
  },
  {
   "cell_type": "code",
   "execution_count": 6,
   "metadata": {},
   "outputs": [
    {
     "data": {
      "text/plain": [
       "is_sarcastic    0\n",
       "headline        0\n",
       "article_link    0\n",
       "dtype: int64"
      ]
     },
     "execution_count": 6,
     "metadata": {},
     "output_type": "execute_result"
    }
   ],
   "source": [
    "#Check for any null values int he dataset\n",
    "df.isnull().sum()"
   ]
  },
  {
   "cell_type": "code",
   "execution_count": 7,
   "metadata": {},
   "outputs": [],
   "source": [
    "# Check for any duplicate rows"
   ]
  },
  {
   "cell_type": "code",
   "execution_count": 8,
   "metadata": {},
   "outputs": [
    {
     "data": {
      "text/plain": [
       "28617"
      ]
     },
     "execution_count": 8,
     "metadata": {},
     "output_type": "execute_result"
    }
   ],
   "source": [
    "df['article_link'].nunique()"
   ]
  },
  {
   "cell_type": "code",
   "execution_count": 9,
   "metadata": {},
   "outputs": [
    {
     "data": {
      "text/plain": [
       "2"
      ]
     },
     "execution_count": 9,
     "metadata": {},
     "output_type": "execute_result"
    }
   ],
   "source": [
    "#There are 2 duplicate rows\n",
    "df.duplicated().sum()"
   ]
  },
  {
   "cell_type": "code",
   "execution_count": 10,
   "metadata": {},
   "outputs": [],
   "source": [
    "#Remove duplicate rows\n",
    "df.drop_duplicates(keep='first', inplace=True)\n",
    "df.reset_index(inplace=True)"
   ]
  },
  {
   "cell_type": "code",
   "execution_count": 11,
   "metadata": {},
   "outputs": [
    {
     "data": {
      "text/plain": [
       "0"
      ]
     },
     "execution_count": 11,
     "metadata": {},
     "output_type": "execute_result"
    }
   ],
   "source": [
    "#No duplicated found\n",
    "df.duplicated().sum()"
   ]
  },
  {
   "cell_type": "markdown",
   "metadata": {},
   "source": [
    "## Data Cleaning"
   ]
  },
  {
   "cell_type": "markdown",
   "metadata": {},
   "source": [
    "## Step 1:\n",
    "### Remove Special Characters\n",
    "### Check if numbers are required\n",
    "### Remove anomalies like 1a 2b"
   ]
  },
  {
   "cell_type": "code",
   "execution_count": 12,
   "metadata": {},
   "outputs": [
    {
     "name": "stdout",
     "output_type": "stream",
     "text": [
      "Wall time: 180 ms\n"
     ]
    }
   ],
   "source": [
    "%%time\n",
    "df1=df.copy()\n",
    "\n",
    "#Remove all single letter words\n",
    "df1['headline']=df1['headline'].apply(lambda x: re.sub(r\"[^\\w\\s]\",\" \",str(x)))\n",
    "\n",
    "#Remove all numbers\n",
    "df1['headline']=df1['headline'].apply(lambda x: re.sub(r'\\d',\"\",str(x)))\n",
    "\n",
    "#Remove extra spaces\n",
    "df1['headline']=df1['headline'].apply(lambda x: \" \".join(x.split()))"
   ]
  },
  {
   "cell_type": "markdown",
   "metadata": {},
   "source": [
    "## Step 2:\n",
    "### Convert to lower case\n",
    "### Remove Stopwords and special words that need to be removed\n",
    "### Perform Lemmatization"
   ]
  },
  {
   "cell_type": "code",
   "execution_count": 13,
   "metadata": {},
   "outputs": [
    {
     "name": "stdout",
     "output_type": "stream",
     "text": [
      "Wall time: 50.5 s\n"
     ]
    }
   ],
   "source": [
    "%%time\n",
    "stop=set(stopwords.words('english'))\n",
    "#Update any words that we want to remove here\n",
    "custom_list=['nan']\n",
    "stop.update(custom_list)\n",
    "\n",
    "tadDict = defaultdict(lambda : wn.NOUN)\n",
    "tadDict['J'] = wn.ADJ\n",
    "tadDict['V'] = wn.VERB\n",
    "tadDict['R'] = wn.ADV\n",
    "\n",
    "#Convert to lower case\n",
    "df1['headline']=df1['headline'].apply(lambda x: x.lower())\n",
    "\n",
    "#Remove stopwords\n",
    "# df1['headline']=df1['headline'].apply(lambda x: \" \".join([i for i in word_tokenize(x) if i.casefold() not in map(str.casefold,stop)]))\n",
    "\n",
    "#Perform Lemmatization\n",
    "df1['headline']=df1['headline'].apply(lambda x: \" \".join(WordNetLemmatizer().lemmatize(word,tadDict[tag[0]]) for word,tag in pos_tag(word_tokenize(x))))\n",
    "\n",
    "#Remove all single letter words\n",
    "df1['headline']=df1['headline'].apply(lambda x: re.sub(r\"( [a-z]{1} )|(^[a-z]{1} )|( [a-z]{1}$)\",\" \",str(x)))\n",
    "\n",
    "#Remove extra spaces\n",
    "df1['headline']=df1['headline'].apply(lambda x: \" \".join(x.split()))"
   ]
  },
  {
   "cell_type": "code",
   "execution_count": 14,
   "metadata": {},
   "outputs": [],
   "source": [
    "df_cleaned=df1.copy()"
   ]
  },
  {
   "cell_type": "code",
   "execution_count": 15,
   "metadata": {},
   "outputs": [
    {
     "data": {
      "text/plain": [
       "\"richard branson's global-warming donation nearly as much as cost of failed balloon trips\""
      ]
     },
     "execution_count": 15,
     "metadata": {},
     "output_type": "execute_result"
    }
   ],
   "source": [
    "df['headline'][7]"
   ]
  },
  {
   "cell_type": "code",
   "execution_count": 16,
   "metadata": {},
   "outputs": [
    {
     "data": {
      "text/plain": [
       "'richard branson global warm donation nearly as much cost of failed balloon trip'"
      ]
     },
     "execution_count": 16,
     "metadata": {},
     "output_type": "execute_result"
    }
   ],
   "source": [
    "df_cleaned['headline'][7]"
   ]
  },
  {
   "cell_type": "code",
   "execution_count": 17,
   "metadata": {},
   "outputs": [],
   "source": [
    "# Removing records that are having Null after cleaning.\n",
    "df_cleaned=df_cleaned[df_cleaned['headline'].apply(lambda x: len(x)) > 0]"
   ]
  },
  {
   "cell_type": "code",
   "execution_count": 18,
   "metadata": {},
   "outputs": [
    {
     "data": {
      "text/plain": [
       "[('to', 9107), ('of', 6295), ('the', 5535), ('in', 4599)]"
      ]
     },
     "execution_count": 18,
     "metadata": {},
     "output_type": "execute_result"
    }
   ],
   "source": [
    "from collections import Counter\n",
    "corpus=\" \".join(df_cleaned['headline'])\n",
    "corpus_split=corpus.split()\n",
    "Counter=Counter(corpus_split)\n",
    "most_occur = Counter.most_common(4)\n",
    "most_occur"
   ]
  },
  {
   "cell_type": "markdown",
   "metadata": {},
   "source": [
    "### Create Word Embeddings using Word2Vec"
   ]
  },
  {
   "cell_type": "code",
   "execution_count": 19,
   "metadata": {},
   "outputs": [],
   "source": [
    "from sklearn import preprocessing\n",
    "from sklearn.model_selection import train_test_split\n",
    "# from sklearn import linear_model\n",
    "# from sklearn.naive_bayes import MultinomialNB\n",
    "# from sklearn.svm import SVC\n",
    "# from sklearn.neural_network import MLPClassifier\n",
    "# from sklearn.linear_model import SGDClassifier\n",
    "# from sklearn.ensemble import RandomForestClassifier, VotingClassifier\n",
    "# from sklearn.metrics import precision_score, accuracy_score, recall_score\n",
    "# from sklearn.decomposition import TruncatedSVD\n",
    "\n",
    "import gensim\n",
    "from gensim import corpora\n",
    "from gensim import models\n",
    "from gensim import similarities\n",
    "\n",
    "from gensim.models import Word2Vec\n",
    "from multiprocessing import cpu_count"
   ]
  },
  {
   "cell_type": "code",
   "execution_count": 20,
   "metadata": {},
   "outputs": [],
   "source": [
    "def read_corpus(df):\n",
    "    for i in df['headline']:\n",
    "        tokens=gensim.utils.simple_preprocess(i)\n",
    "        yield tokens\n",
    "    \n",
    "train_corpus=list(read_corpus(df_cleaned))"
   ]
  },
  {
   "cell_type": "code",
   "execution_count": 21,
   "metadata": {},
   "outputs": [
    {
     "data": {
      "text/plain": [
       "(1240897, 1411750)"
      ]
     },
     "execution_count": 21,
     "metadata": {},
     "output_type": "execute_result"
    }
   ],
   "source": [
    "size=200\n",
    "model=gensim.models.word2vec.Word2Vec(size=size,min_count=1,hs=1,sg=1,window=8,workers=cpu_count())\n",
    "model.init_sims(replace=True)\n",
    "\n",
    "model.build_vocab(train_corpus)\n",
    "model.train(train_corpus,total_examples=model.corpus_count,epochs=model.epochs)"
   ]
  },
  {
   "cell_type": "code",
   "execution_count": 22,
   "metadata": {},
   "outputs": [
    {
     "data": {
      "text/plain": [
       "[('keg', 0.788276195526123),\n",
       " ('blank', 0.7799274325370789),\n",
       " ('zaire', 0.7761216163635254),\n",
       " ('excruciate', 0.7722539901733398),\n",
       " ('whenever', 0.7709060311317444),\n",
       " ('polling', 0.7692815661430359),\n",
       " ('uphill', 0.7685390710830688),\n",
       " ('confide', 0.7681942582130432),\n",
       " ('overthrow', 0.7657268047332764),\n",
       " ('nostalgically', 0.7649931907653809)]"
      ]
     },
     "execution_count": 22,
     "metadata": {},
     "output_type": "execute_result"
    }
   ],
   "source": [
    "model.most_similar('close')"
   ]
  },
  {
   "cell_type": "markdown",
   "metadata": {},
   "source": [
    "### Creating Sentence Vectors\n",
    "\n",
    "Word2Vec gives us embeddings for a particular word. But we need to embedding for whole sentence(s).\n",
    "\n",
    "So, to convert the embedding for word to sentence we take the sum of all the words present in a sentence and divide it by the total number of unique words in that sentence. It is like taking average vector for the whole sentence using each vector of the word.\n",
    "\n",
    "    For each row or sentence:\n",
    "        - Append all the word vectors to form a matrix with size (# of words,vector size)\n",
    "        - Take column wise sum of the matrix created\n",
    "        - Divide the sum by number of the unique words in that row or sentence"
   ]
  },
  {
   "cell_type": "code",
   "execution_count": 23,
   "metadata": {},
   "outputs": [],
   "source": [
    "def sentence_vector(sentence,model):\n",
    "    sent_vec=[]\n",
    "    for i in sentence:\n",
    "        aa=[]\n",
    "        tokens=gensim.utils.simple_preprocess(i)\n",
    "        nunique_words=len(set(i.split()))\n",
    "        for j in tokens:\n",
    "            aa.append(model.wv[j])\n",
    "        bb=pd.DataFrame(aa)\n",
    "        cc=bb.sum(axis=0)/nunique_words\n",
    "        sent_vec.append(cc)\n",
    "    \n",
    "    return pd.DataFrame(sent_vec)"
   ]
  },
  {
   "cell_type": "code",
   "execution_count": 24,
   "metadata": {},
   "outputs": [
    {
     "name": "stdout",
     "output_type": "stream",
     "text": [
      "Wall time: 5min 45s\n"
     ]
    },
    {
     "data": {
      "text/plain": [
       "(28617, 200)"
      ]
     },
     "execution_count": 24,
     "metadata": {},
     "output_type": "execute_result"
    }
   ],
   "source": [
    "%%time\n",
    "headlines_vec=sentence_vector(df_cleaned['headline'],model)\n",
    "min_max_scaler = preprocessing.MinMaxScaler()\n",
    "headlines_vec = min_max_scaler.fit_transform(headlines_vec)\n",
    "headlines_vec.shape"
   ]
  },
  {
   "cell_type": "code",
   "execution_count": 25,
   "metadata": {},
   "outputs": [],
   "source": [
    "labels=df_cleaned['is_sarcastic']"
   ]
  },
  {
   "cell_type": "markdown",
   "metadata": {},
   "source": [
    "## Creating Test Training Split"
   ]
  },
  {
   "cell_type": "code",
   "execution_count": 26,
   "metadata": {},
   "outputs": [],
   "source": [
    "#training and test data splits\n",
    "x_train, x_test, y_train, y_test = train_test_split(headlines_vec, labels, test_size = 0.1, random_state = 0)\n",
    "x_train, x_val,  y_train, y_val  = train_test_split(x_train, y_train, test_size = 0.11, random_state = 0)"
   ]
  },
  {
   "cell_type": "markdown",
   "metadata": {},
   "source": [
    "### Reshape the embeddings accordingly for input to LSTM\n",
    "\n",
    "- Samples: One sequence is one sample. A batch is comprised of one or more samples.\n",
    "- Time Steps: One time step is one point of observation in the sample.\n",
    "- Features: One feature is one observation at a time step."
   ]
  },
  {
   "cell_type": "code",
   "execution_count": 27,
   "metadata": {},
   "outputs": [],
   "source": [
    "x_train=x_train.reshape(x_train.shape[0],1,x_train.shape[1])\n",
    "x_val  =x_val.reshape(x_val.shape[0],1,x_val.shape[1])\n",
    "x_test =x_test.reshape(x_test.shape[0],1,x_test.shape[1])"
   ]
  },
  {
   "cell_type": "code",
   "execution_count": 28,
   "metadata": {},
   "outputs": [],
   "source": [
    "y_train=np.array(y_train).reshape(y_train.shape[0],1)\n",
    "y_val  =np.array(y_val).reshape(y_val.shape[0],1)\n",
    "y_test =np.array(y_test).reshape(y_test.shape[0],1)"
   ]
  },
  {
   "cell_type": "code",
   "execution_count": 29,
   "metadata": {},
   "outputs": [
    {
     "name": "stdout",
     "output_type": "stream",
     "text": [
      "(22921, 1, 200)\n",
      "(22921, 1)\n",
      "(2834, 1, 200)\n",
      "(2834, 1)\n",
      "(2862, 1, 200)\n",
      "(2862, 1)\n"
     ]
    }
   ],
   "source": [
    "print(x_train.shape)\n",
    "print(y_train.shape)\n",
    "print(x_val.shape)\n",
    "print(y_val.shape)\n",
    "print(x_test.shape)\n",
    "print(y_test.shape)"
   ]
  },
  {
   "cell_type": "markdown",
   "metadata": {},
   "source": [
    "# Classification Task"
   ]
  },
  {
   "cell_type": "markdown",
   "metadata": {},
   "source": [
    "## LSTM 32 nodes without Dropouts"
   ]
  },
  {
   "cell_type": "code",
   "execution_count": 30,
   "metadata": {
    "scrolled": true
   },
   "outputs": [
    {
     "name": "stdout",
     "output_type": "stream",
     "text": [
      "Model: \"sequential_1\"\n",
      "_________________________________________________________________\n",
      "Layer (type)                 Output Shape              Param #   \n",
      "=================================================================\n",
      "lstm_1 (LSTM)                (None, 32)                29824     \n",
      "_________________________________________________________________\n",
      "dense_1 (Dense)              (None, 1)                 33        \n",
      "=================================================================\n",
      "Total params: 29,857\n",
      "Trainable params: 29,857\n",
      "Non-trainable params: 0\n",
      "_________________________________________________________________\n",
      "None\n",
      "Train on 22921 samples, validate on 2834 samples\n",
      "Epoch 1/30\n",
      "22921/22921 [==============================] - 3s 147us/step - loss: 0.6288 - accuracy: 0.6518 - precision: 0.5910 - recall: 0.3867 - val_loss: 0.5426 - val_accuracy: 0.7495 - val_precision: 0.6843 - val_recall: 0.5242\n",
      "Epoch 2/30\n",
      "22921/22921 [==============================] - 2s 88us/step - loss: 0.5102 - accuracy: 0.7588 - precision: 0.7074 - recall: 0.5868 - val_loss: 0.4922 - val_accuracy: 0.7671 - val_precision: 0.7233 - val_recall: 0.6327\n",
      "Epoch 3/30\n",
      "22921/22921 [==============================] - 2s 80us/step - loss: 0.4747 - accuracy: 0.7759 - precision: 0.7320 - recall: 0.6575 - val_loss: 0.4800 - val_accuracy: 0.7689 - val_precision: 0.7385 - val_recall: 0.6768\n",
      "Epoch 4/30\n",
      "22921/22921 [==============================] - 2s 85us/step - loss: 0.4777 - accuracy: 0.7736 - precision: 0.7421 - recall: 0.6885 - val_loss: 0.4835 - val_accuracy: 0.7671 - val_precision: 0.7444 - val_recall: 0.6991\n",
      "Epoch 5/30\n",
      "22921/22921 [==============================] - 2s 88us/step - loss: 0.4581 - accuracy: 0.7837 - precision: 0.7469 - recall: 0.7083 - val_loss: 0.4920 - val_accuracy: 0.7632 - val_precision: 0.7489 - val_recall: 0.7157\n",
      "\n",
      "Epoch 00005: ReduceLROnPlateau reducing learning rate to 0.0005000000237487257.\n",
      "Epoch 6/30\n",
      "22921/22921 [==============================] - 2s 89us/step - loss: 0.4547 - accuracy: 0.7845 - precision: 0.7505 - recall: 0.7219 - val_loss: 0.4709 - val_accuracy: 0.7728 - val_precision: 0.7524 - val_recall: 0.7261\n",
      "Epoch 7/30\n",
      "22921/22921 [==============================] - 2s 85us/step - loss: 0.4506 - accuracy: 0.7886 - precision: 0.7540 - recall: 0.7300 - val_loss: 0.4697 - val_accuracy: 0.7738 - val_precision: 0.7556 - val_recall: 0.7338\n",
      "Epoch 8/30\n",
      "22921/22921 [==============================] - 2s 83us/step - loss: 0.4530 - accuracy: 0.7860 - precision: 0.7569 - recall: 0.7364 - val_loss: 0.4711 - val_accuracy: 0.7703 - val_precision: 0.7579 - val_recall: 0.7390\n",
      "Epoch 9/30\n",
      "22921/22921 [==============================] - 2s 89us/step - loss: 0.4494 - accuracy: 0.7890 - precision: 0.7588 - recall: 0.7416 - val_loss: 0.4684 - val_accuracy: 0.7756 - val_precision: 0.7597 - val_recall: 0.7437\n",
      "Epoch 10/30\n",
      "22921/22921 [==============================] - 2s 86us/step - loss: 0.4467 - accuracy: 0.7908 - precision: 0.7605 - recall: 0.7457 - val_loss: 0.4667 - val_accuracy: 0.7738 - val_precision: 0.7615 - val_recall: 0.7475\n",
      "Epoch 11/30\n",
      "22921/22921 [==============================] - 2s 90us/step - loss: 0.4461 - accuracy: 0.7905 - precision: 0.7625 - recall: 0.7491 - val_loss: 0.4694 - val_accuracy: 0.7717 - val_precision: 0.7630 - val_recall: 0.7505\n",
      "Epoch 12/30\n",
      "22921/22921 [==============================] - 2s 83us/step - loss: 0.4470 - accuracy: 0.7886 - precision: 0.7636 - recall: 0.7520 - val_loss: 0.4676 - val_accuracy: 0.7735 - val_precision: 0.7638 - val_recall: 0.7533\n",
      "\n",
      "Epoch 00012: ReduceLROnPlateau reducing learning rate to 0.0002500000118743628.\n",
      "Epoch 13/30\n",
      "22921/22921 [==============================] - 2s 87us/step - loss: 0.4415 - accuracy: 0.7918 - precision: 0.7644 - recall: 0.7547 - val_loss: 0.4675 - val_accuracy: 0.7728 - val_precision: 0.7647 - val_recall: 0.7557\n",
      "Epoch 14/30\n",
      "22921/22921 [==============================] - 2s 88us/step - loss: 0.4410 - accuracy: 0.7936 - precision: 0.7653 - recall: 0.7571 - val_loss: 0.4633 - val_accuracy: 0.7759 - val_precision: 0.7657 - val_recall: 0.7579\n",
      "Epoch 15/30\n",
      "22921/22921 [==============================] - 2s 89us/step - loss: 0.4401 - accuracy: 0.7936 - precision: 0.7662 - recall: 0.7588 - val_loss: 0.4673 - val_accuracy: 0.7728 - val_precision: 0.7666 - val_recall: 0.7598\n",
      "Epoch 16/30\n",
      "22921/22921 [==============================] - 2s 84us/step - loss: 0.4416 - accuracy: 0.7927 - precision: 0.7669 - recall: 0.7606 - val_loss: 0.4705 - val_accuracy: 0.7766 - val_precision: 0.7674 - val_recall: 0.7612\n",
      "\n",
      "Epoch 00016: ReduceLROnPlateau reducing learning rate to 0.0001250000059371814.\n",
      "Epoch 17/30\n",
      "22921/22921 [==============================] - 2s 86us/step - loss: 0.4400 - accuracy: 0.7939 - precision: 0.7679 - recall: 0.7617 - val_loss: 0.4651 - val_accuracy: 0.7745 - val_precision: 0.7682 - val_recall: 0.7624\n",
      "Epoch 18/30\n",
      "22921/22921 [==============================] - 2s 88us/step - loss: 0.4386 - accuracy: 0.7956 - precision: 0.7685 - recall: 0.7633 - val_loss: 0.4659 - val_accuracy: 0.7738 - val_precision: 0.7688 - val_recall: 0.7641\n",
      "\n",
      "Epoch 00018: ReduceLROnPlateau reducing learning rate to 6.25000029685907e-05.\n",
      "Epoch 19/30\n",
      "22921/22921 [==============================] - 2s 86us/step - loss: 0.4380 - accuracy: 0.7953 - precision: 0.7690 - recall: 0.7647 - val_loss: 0.4621 - val_accuracy: 0.7759 - val_precision: 0.7693 - val_recall: 0.7653\n",
      "Epoch 20/30\n",
      "22921/22921 [==============================] - 2s 86us/step - loss: 0.4380 - accuracy: 0.7960 - precision: 0.7697 - recall: 0.7659 - val_loss: 0.4641 - val_accuracy: 0.7752 - val_precision: 0.7699 - val_recall: 0.7666\n",
      "Epoch 21/30\n",
      "22921/22921 [==============================] - 2s 90us/step - loss: 0.4377 - accuracy: 0.7933 - precision: 0.7700 - recall: 0.7670 - val_loss: 0.4614 - val_accuracy: 0.7770 - val_precision: 0.7703 - val_recall: 0.7675\n",
      "Epoch 22/30\n",
      "22921/22921 [==============================] - 2s 85us/step - loss: 0.4373 - accuracy: 0.7956 - precision: 0.7706 - recall: 0.7679 - val_loss: 0.4618 - val_accuracy: 0.7784 - val_precision: 0.7708 - val_recall: 0.7683\n",
      "Epoch 23/30\n",
      "22921/22921 [==============================] - 2s 84us/step - loss: 0.4376 - accuracy: 0.7950 - precision: 0.7711 - recall: 0.7687 - val_loss: 0.4613 - val_accuracy: 0.7763 - val_precision: 0.7713 - val_recall: 0.7690\n",
      "Epoch 24/30\n",
      "22921/22921 [==============================] - 2s 82us/step - loss: 0.4373 - accuracy: 0.7950 - precision: 0.7715 - recall: 0.7694 - val_loss: 0.4611 - val_accuracy: 0.7781 - val_precision: 0.7717 - val_recall: 0.7697\n",
      "Epoch 25/30\n",
      "22921/22921 [==============================] - 2s 80us/step - loss: 0.4370 - accuracy: 0.7966 - precision: 0.7719 - recall: 0.7701 - val_loss: 0.4615 - val_accuracy: 0.7781 - val_precision: 0.7722 - val_recall: 0.7704\n",
      "Epoch 26/30\n",
      "22921/22921 [==============================] - 2s 82us/step - loss: 0.4375 - accuracy: 0.7949 - precision: 0.7724 - recall: 0.7706 - val_loss: 0.4615 - val_accuracy: 0.7749 - val_precision: 0.7725 - val_recall: 0.7710\n",
      "\n",
      "Epoch 00026: ReduceLROnPlateau reducing learning rate to 3.125000148429535e-05.\n",
      "Epoch 27/30\n",
      "22921/22921 [==============================] - 2s 86us/step - loss: 0.4366 - accuracy: 0.7963 - precision: 0.7727 - recall: 0.7714 - val_loss: 0.4629 - val_accuracy: 0.7763 - val_precision: 0.7728 - val_recall: 0.7717\n",
      "Epoch 28/30\n",
      "22921/22921 [==============================] - 2s 84us/step - loss: 0.4368 - accuracy: 0.7968 - precision: 0.7730 - recall: 0.7720 - val_loss: 0.4627 - val_accuracy: 0.7759 - val_precision: 0.7731 - val_recall: 0.7723\n",
      "\n",
      "Epoch 00028: ReduceLROnPlateau reducing learning rate to 1.5625000742147677e-05.\n",
      "Epoch 29/30\n",
      "22921/22921 [==============================] - 2s 89us/step - loss: 0.4362 - accuracy: 0.7957 - precision: 0.7732 - recall: 0.7726 - val_loss: 0.4624 - val_accuracy: 0.7756 - val_precision: 0.7733 - val_recall: 0.7730\n",
      "Epoch 00029: early stopping\n",
      "score    : 44.61\n",
      "Accuracy : 78.93%\n",
      "Precision: 77.33%\n",
      "Recall   : 77.30%\n",
      "F1-Score : 77.31%\n"
     ]
    }
   ],
   "source": [
    "# create the model\n",
    "reduce_lr = keras.callbacks.ReduceLROnPlateau(monitor='val_loss', factor=0.50, patience=2, verbose=1, mode='auto', cooldown=0, min_lr=0.00001)\n",
    "\n",
    "early = keras.callbacks.EarlyStopping(monitor='val_loss', min_delta=0, patience=5, verbose=1, mode='auto')\n",
    "\n",
    "model = Sequential()\n",
    "model.add(LSTM(32,input_shape=(x_train.shape[1],x_train.shape[2])))\n",
    "model.add(Dense(1, activation='sigmoid'))\n",
    "model.compile(loss='binary_crossentropy', optimizer='adam', metrics=['accuracy',tf.keras.metrics.Precision(),tf.keras.metrics.Recall()])\n",
    "print(model.summary())\n",
    "\n",
    "history  = model.fit(np.array(x_train), np.array(y_train),\n",
    " epochs= 30,\n",
    " batch_size = 100,\n",
    " validation_data = (np.array(x_val), np.array(y_val)),\n",
    " callbacks = [reduce_lr, early]\n",
    ")\n",
    "\n",
    "score = model.evaluate(x_test, y_test, verbose = 2)\n",
    "print(\"score    : %.2f\" % (score[0]*100))\n",
    "print(\"Accuracy : %.2f%%\" % (score[1]*100))\n",
    "print(\"Precision: %.2f%%\" % (score[2]*100))\n",
    "print(\"Recall   : %.2f%%\" % (score[3]*100))\n",
    "print(\"F1-Score : %.2f%%\" % ((2*(score[2]*score[3])/(score[2]+score[3]))*100))"
   ]
  },
  {
   "cell_type": "code",
   "execution_count": 31,
   "metadata": {},
   "outputs": [
    {
     "data": {
      "text/plain": [
       "<AxesSubplot:>"
      ]
     },
     "execution_count": 31,
     "metadata": {},
     "output_type": "execute_result"
    },
    {
     "data": {
      "image/png": "[encoded data removed]",
      "text/plain": [
       "<Figure size 432x288 with 1 Axes>"
      ]
     },
     "metadata": {
      "needs_background": "light"
     },
     "output_type": "display_data"
    }
   ],
   "source": [
    "pd.DataFrame(history.history).plot(kind='line')"
   ]
  },
  {
   "cell_type": "markdown",
   "metadata": {},
   "source": [
    "## LSTM 128 nodes without Dropouts"
   ]
  },
  {
   "cell_type": "code",
   "execution_count": 32,
   "metadata": {},
   "outputs": [
    {
     "name": "stdout",
     "output_type": "stream",
     "text": [
      "Model: \"sequential_2\"\n",
      "_________________________________________________________________\n",
      "Layer (type)                 Output Shape              Param #   \n",
      "=================================================================\n",
      "lstm_2 (LSTM)                (None, 128)               168448    \n",
      "_________________________________________________________________\n",
      "dense_2 (Dense)              (None, 1)                 129       \n",
      "=================================================================\n",
      "Total params: 168,577\n",
      "Trainable params: 168,577\n",
      "Non-trainable params: 0\n",
      "_________________________________________________________________\n",
      "None\n",
      "Train on 22921 samples, validate on 2834 samples\n",
      "Epoch 1/30\n",
      "22921/22921 [==============================] - 2s 107us/step - loss: 0.5869 - accuracy: 0.6981 - precision_1: 0.6540 - recall_1: 0.5106 - val_loss: 0.5246 - val_accuracy: 0.7315 - val_precision_1: 0.7139 - val_recall_1: 0.6191\n",
      "Epoch 2/30\n",
      "22921/22921 [==============================] - 2s 83us/step - loss: 0.4804 - accuracy: 0.7724 - precision_1: 0.7317 - recall_1: 0.6548 - val_loss: 0.5030 - val_accuracy: 0.7488 - val_precision_1: 0.7430 - val_recall_1: 0.6802\n",
      "Epoch 3/30\n",
      "22921/22921 [==============================] - 2s 83us/step - loss: 0.4680 - accuracy: 0.7776 - precision_1: 0.7486 - recall_1: 0.6932 - val_loss: 0.4872 - val_accuracy: 0.7629 - val_precision_1: 0.7511 - val_recall_1: 0.7077\n",
      "Epoch 4/30\n",
      "22921/22921 [==============================] - 2s 80us/step - loss: 0.4560 - accuracy: 0.7878 - precision_1: 0.7538 - recall_1: 0.7182 - val_loss: 0.4735 - val_accuracy: 0.7692 - val_precision_1: 0.7565 - val_recall_1: 0.7264\n",
      "Epoch 5/30\n",
      "22921/22921 [==============================] - 2s 83us/step - loss: 0.4662 - accuracy: 0.7779 - precision_1: 0.7576 - recall_1: 0.7313 - val_loss: 0.4679 - val_accuracy: 0.7728 - val_precision_1: 0.7581 - val_recall_1: 0.7350\n",
      "Epoch 6/30\n",
      "22921/22921 [==============================] - 2s 88us/step - loss: 0.4545 - accuracy: 0.7852 - precision_1: 0.7594 - recall_1: 0.7389 - val_loss: 0.4818 - val_accuracy: 0.7685 - val_precision_1: 0.7600 - val_recall_1: 0.7425\n",
      "Epoch 7/30\n",
      "22921/22921 [==============================] - 2s 81us/step - loss: 0.4534 - accuracy: 0.7863 - precision_1: 0.7607 - recall_1: 0.7459 - val_loss: 0.4774 - val_accuracy: 0.7692 - val_precision_1: 0.7612 - val_recall_1: 0.7486\n",
      "\n",
      "Epoch 00007: ReduceLROnPlateau reducing learning rate to 0.0005000000237487257.\n",
      "Epoch 8/30\n",
      "22921/22921 [==============================] - 2s 84us/step - loss: 0.4455 - accuracy: 0.7913 - precision_1: 0.7621 - recall_1: 0.7515 - val_loss: 0.4625 - val_accuracy: 0.7756 - val_precision_1: 0.7629 - val_recall_1: 0.7534\n",
      "Epoch 9/30\n",
      "22921/22921 [==============================] - 2s 82us/step - loss: 0.4446 - accuracy: 0.7925 - precision_1: 0.7639 - recall_1: 0.7549 - val_loss: 0.4649 - val_accuracy: 0.7798 - val_precision_1: 0.7650 - val_recall_1: 0.7562\n",
      "Epoch 10/30\n",
      "22921/22921 [==============================] - 2s 83us/step - loss: 0.4465 - accuracy: 0.7888 - precision_1: 0.7658 - recall_1: 0.7571 - val_loss: 0.4617 - val_accuracy: 0.7759 - val_precision_1: 0.7662 - val_recall_1: 0.7583\n",
      "Epoch 11/30\n",
      "22921/22921 [==============================] - 2s 82us/step - loss: 0.4444 - accuracy: 0.7914 - precision_1: 0.7667 - recall_1: 0.7596 - val_loss: 0.4697 - val_accuracy: 0.7773 - val_precision_1: 0.7670 - val_recall_1: 0.7609\n",
      "Epoch 12/30\n",
      "22921/22921 [==============================] - 2s 84us/step - loss: 0.4447 - accuracy: 0.7931 - precision_1: 0.7675 - recall_1: 0.7622 - val_loss: 0.4813 - val_accuracy: 0.7724 - val_precision_1: 0.7683 - val_recall_1: 0.7623\n",
      "\n",
      "Epoch 00012: ReduceLROnPlateau reducing learning rate to 0.0002500000118743628.\n",
      "Epoch 13/30\n",
      "22921/22921 [==============================] - 2s 86us/step - loss: 0.4384 - accuracy: 0.7960 - precision_1: 0.7691 - recall_1: 0.7628 - val_loss: 0.4592 - val_accuracy: 0.7816 - val_precision_1: 0.7696 - val_recall_1: 0.7637\n",
      "Epoch 14/30\n",
      "22921/22921 [==============================] - 2s 82us/step - loss: 0.4374 - accuracy: 0.7972 - precision_1: 0.7702 - recall_1: 0.7646 - val_loss: 0.4593 - val_accuracy: 0.7777 - val_precision_1: 0.7707 - val_recall_1: 0.7654\n",
      "Epoch 15/30\n",
      "22921/22921 [==============================] - 2s 86us/step - loss: 0.4393 - accuracy: 0.7960 - precision_1: 0.7712 - recall_1: 0.7661 - val_loss: 0.4662 - val_accuracy: 0.7788 - val_precision_1: 0.7714 - val_recall_1: 0.7668\n",
      "\n",
      "Epoch 00015: ReduceLROnPlateau reducing learning rate to 0.0001250000059371814.\n",
      "Epoch 16/30\n",
      "22921/22921 [==============================] - 2s 85us/step - loss: 0.4355 - accuracy: 0.7964 - precision_1: 0.7716 - recall_1: 0.7677 - val_loss: 0.4638 - val_accuracy: 0.7773 - val_precision_1: 0.7719 - val_recall_1: 0.7686\n",
      "Epoch 17/30\n",
      "22921/22921 [==============================] - 2s 83us/step - loss: 0.4352 - accuracy: 0.7989 - precision_1: 0.7721 - recall_1: 0.7693 - val_loss: 0.4581 - val_accuracy: 0.7802 - val_precision_1: 0.7725 - val_recall_1: 0.7700\n",
      "Epoch 18/30\n",
      "22921/22921 [==============================] - 2s 82us/step - loss: 0.4365 - accuracy: 0.7956 - precision_1: 0.7728 - recall_1: 0.7704 - val_loss: 0.4631 - val_accuracy: 0.7781 - val_precision_1: 0.7730 - val_recall_1: 0.7710\n",
      "Epoch 19/30\n",
      "22921/22921 [==============================] - 2s 82us/step - loss: 0.4352 - accuracy: 0.7967 - precision_1: 0.7733 - recall_1: 0.7717 - val_loss: 0.4581 - val_accuracy: 0.7823 - val_precision_1: 0.7735 - val_recall_1: 0.7720\n",
      "\n",
      "Epoch 00019: ReduceLROnPlateau reducing learning rate to 6.25000029685907e-05.\n",
      "Epoch 20/30\n",
      "22921/22921 [==============================] - 2s 82us/step - loss: 0.4342 - accuracy: 0.7975 - precision_1: 0.7738 - recall_1: 0.7724 - val_loss: 0.4581 - val_accuracy: 0.7802 - val_precision_1: 0.7740 - val_recall_1: 0.7729\n",
      "Epoch 21/30\n",
      "22921/22921 [==============================] - 2s 84us/step - loss: 0.4333 - accuracy: 0.7979 - precision_1: 0.7742 - recall_1: 0.7733 - val_loss: 0.4583 - val_accuracy: 0.7798 - val_precision_1: 0.7744 - val_recall_1: 0.7737\n",
      "\n",
      "Epoch 00021: ReduceLROnPlateau reducing learning rate to 3.125000148429535e-05.\n",
      "Epoch 22/30\n",
      "22921/22921 [==============================] - 2s 82us/step - loss: 0.4330 - accuracy: 0.7985 - precision_1: 0.7746 - recall_1: 0.7741 - val_loss: 0.4575 - val_accuracy: 0.7795 - val_precision_1: 0.7748 - val_recall_1: 0.7745\n",
      "Epoch 23/30\n",
      "22921/22921 [==============================] - 2s 90us/step - loss: 0.4332 - accuracy: 0.7983 - precision_1: 0.7751 - recall_1: 0.7748 - val_loss: 0.4580 - val_accuracy: 0.7802 - val_precision_1: 0.7753 - val_recall_1: 0.7751\n",
      "Epoch 24/30\n",
      "22921/22921 [==============================] - 2s 93us/step - loss: 0.4333 - accuracy: 0.7993 - precision_1: 0.7755 - recall_1: 0.7755 - val_loss: 0.4603 - val_accuracy: 0.7756 - val_precision_1: 0.7756 - val_recall_1: 0.7759\n",
      "\n",
      "Epoch 00024: ReduceLROnPlateau reducing learning rate to 1.5625000742147677e-05.\n",
      "Epoch 25/30\n",
      "22921/22921 [==============================] - 2s 77us/step - loss: 0.4325 - accuracy: 0.7992 - precision_1: 0.7758 - recall_1: 0.7762 - val_loss: 0.4584 - val_accuracy: 0.7781 - val_precision_1: 0.7759 - val_recall_1: 0.7765\n",
      "Epoch 26/30\n",
      "22921/22921 [==============================] - 2s 84us/step - loss: 0.4325 - accuracy: 0.7995 - precision_1: 0.7761 - recall_1: 0.7769 - val_loss: 0.4578 - val_accuracy: 0.7798 - val_precision_1: 0.7763 - val_recall_1: 0.7771\n",
      "\n",
      "Epoch 00026: ReduceLROnPlateau reducing learning rate to 1e-05.\n",
      "Epoch 27/30\n",
      "22921/22921 [==============================] - 2s 83us/step - loss: 0.4324 - accuracy: 0.7990 - precision_1: 0.7764 - recall_1: 0.7774 - val_loss: 0.4613 - val_accuracy: 0.7759 - val_precision_1: 0.7765 - val_recall_1: 0.7777\n",
      "Epoch 00027: early stopping\n",
      "score    : 44.38\n",
      "Accuracy : 79.42%\n",
      "Precision: 77.64%\n",
      "Recall   : 77.78%\n",
      "F1-Score : 77.71%\n"
     ]
    }
   ],
   "source": [
    "# create the model\n",
    "reduce_lr = keras.callbacks.ReduceLROnPlateau(monitor='val_loss', factor=0.50, patience=2, verbose=1, mode='auto', cooldown=0, min_lr=0.00001)\n",
    "\n",
    "early = keras.callbacks.EarlyStopping(monitor='val_loss', min_delta=0, patience=5, verbose=1, mode='auto')\n",
    "\n",
    "model = Sequential()\n",
    "model.add(LSTM(128,input_shape=(x_train.shape[1],x_train.shape[2])))\n",
    "model.add(Dense(1, activation='sigmoid'))\n",
    "model.compile(loss='binary_crossentropy', optimizer='adam', metrics=['accuracy',tf.keras.metrics.Precision(),tf.keras.metrics.Recall()])\n",
    "print(model.summary())\n",
    "\n",
    "history  = model.fit(np.array(x_train), np.array(y_train),\n",
    " epochs= 30,\n",
    " batch_size = 100,\n",
    " validation_data = (np.array(x_val), np.array(y_val)),\n",
    " callbacks = [reduce_lr, early]\n",
    ")\n",
    "\n",
    "score = model.evaluate(x_test, y_test, verbose = 2)\n",
    "print(\"score    : %.2f\" % (score[0]*100))\n",
    "print(\"Accuracy : %.2f%%\" % (score[1]*100))\n",
    "print(\"Precision: %.2f%%\" % (score[2]*100))\n",
    "print(\"Recall   : %.2f%%\" % (score[3]*100))\n",
    "print(\"F1-Score : %.2f%%\" % ((2*(score[2]*score[3])/(score[2]+score[3]))*100))"
   ]
  },
  {
   "cell_type": "code",
   "execution_count": 33,
   "metadata": {},
   "outputs": [
    {
     "data": {
      "text/plain": [
       "<AxesSubplot:>"
      ]
     },
     "execution_count": 33,
     "metadata": {},
     "output_type": "execute_result"
    },
    {
     "data": {
      "image/png": "[encoded data removed]",
      "text/plain": [
       "<Figure size 432x288 with 1 Axes>"
      ]
     },
     "metadata": {
      "needs_background": "light"
     },
     "output_type": "display_data"
    }
   ],
   "source": [
    "pd.DataFrame(history.history).plot(kind='line')"
   ]
  },
  {
   "cell_type": "markdown",
   "metadata": {},
   "source": [
    "## LSTM 128 nodes with Dropouts"
   ]
  },
  {
   "cell_type": "code",
   "execution_count": 34,
   "metadata": {},
   "outputs": [
    {
     "name": "stdout",
     "output_type": "stream",
     "text": [
      "Model: \"sequential_3\"\n",
      "_________________________________________________________________\n",
      "Layer (type)                 Output Shape              Param #   \n",
      "=================================================================\n",
      "lstm_3 (LSTM)                (None, 128)               168448    \n",
      "_________________________________________________________________\n",
      "dense_3 (Dense)              (None, 1)                 129       \n",
      "=================================================================\n",
      "Total params: 168,577\n",
      "Trainable params: 168,577\n",
      "Non-trainable params: 0\n",
      "_________________________________________________________________\n",
      "None\n",
      "Train on 22921 samples, validate on 2834 samples\n",
      "Epoch 1/30\n",
      "22921/22921 [==============================] - 3s 116us/step - loss: 0.6246 - accuracy: 0.6468 - precision_2: 0.5692 - recall_2: 0.4573 - val_loss: 0.5194 - val_accuracy: 0.7484 - val_precision_2: 0.6565 - val_recall_2: 0.5710\n",
      "Epoch 2/30\n",
      "22921/22921 [==============================] - 2s 95us/step - loss: 0.5171 - accuracy: 0.7472 - precision_2: 0.6879 - recall_2: 0.6203 - val_loss: 0.5097 - val_accuracy: 0.7502 - val_precision_2: 0.7000 - val_recall_2: 0.6541\n",
      "Epoch 3/30\n",
      "22921/22921 [==============================] - 2s 91us/step - loss: 0.5004 - accuracy: 0.7556 - precision_2: 0.7071 - recall_2: 0.6733 - val_loss: 0.4793 - val_accuracy: 0.7696 - val_precision_2: 0.7146 - val_recall_2: 0.6863\n",
      "Epoch 4/30\n",
      "22921/22921 [==============================] - 2s 91us/step - loss: 0.5024 - accuracy: 0.7562 - precision_2: 0.7194 - recall_2: 0.6951 - val_loss: 0.4840 - val_accuracy: 0.7682 - val_precision_2: 0.7232 - val_recall_2: 0.7003\n",
      "Epoch 5/30\n",
      "22921/22921 [==============================] - 2s 90us/step - loss: 0.4940 - accuracy: 0.7593 - precision_2: 0.7262 - recall_2: 0.7044 - val_loss: 0.4754 - val_accuracy: 0.7717 - val_precision_2: 0.7288 - val_recall_2: 0.7094\n",
      "Epoch 6/30\n",
      "22921/22921 [==============================] - 2s 89us/step - loss: 0.4945 - accuracy: 0.7597 - precision_2: 0.7303 - recall_2: 0.7126 - val_loss: 0.4843 - val_accuracy: 0.7650 - val_precision_2: 0.7318 - val_recall_2: 0.7169\n",
      "Epoch 7/30\n",
      "22921/22921 [==============================] - 2s 92us/step - loss: 0.4891 - accuracy: 0.7626 - precision_2: 0.7330 - recall_2: 0.7204 - val_loss: 0.5175 - val_accuracy: 0.7463 - val_precision_2: 0.7335 - val_recall_2: 0.7238\n",
      "\n",
      "Epoch 00007: ReduceLROnPlateau reducing learning rate to 0.0005000000237487257.\n",
      "Epoch 8/30\n",
      "22921/22921 [==============================] - 2s 89us/step - loss: 0.4863 - accuracy: 0.7655 - precision_2: 0.7340 - recall_2: 0.7266 - val_loss: 0.4705 - val_accuracy: 0.7717 - val_precision_2: 0.7354 - val_recall_2: 0.7285\n",
      "Epoch 9/30\n",
      "22921/22921 [==============================] - 2s 90us/step - loss: 0.4836 - accuracy: 0.7669 - precision_2: 0.7366 - recall_2: 0.7302 - val_loss: 0.4871 - val_accuracy: 0.7618 - val_precision_2: 0.7373 - val_recall_2: 0.7323\n",
      "Epoch 10/30\n",
      "22921/22921 [==============================] - 2s 91us/step - loss: 0.4816 - accuracy: 0.7682 - precision_2: 0.7381 - recall_2: 0.7343 - val_loss: 0.4711 - val_accuracy: 0.7731 - val_precision_2: 0.7389 - val_recall_2: 0.7354\n",
      "\n",
      "Epoch 00010: ReduceLROnPlateau reducing learning rate to 0.0002500000118743628.\n",
      "Epoch 11/30\n",
      "22921/22921 [==============================] - 2s 86us/step - loss: 0.4852 - accuracy: 0.7665 - precision_2: 0.7398 - recall_2: 0.7366 - val_loss: 0.4690 - val_accuracy: 0.7749 - val_precision_2: 0.7404 - val_recall_2: 0.7373\n",
      "Epoch 12/30\n",
      "22921/22921 [==============================] - 2s 94us/step - loss: 0.4806 - accuracy: 0.7710 - precision_2: 0.7413 - recall_2: 0.7383 - val_loss: 0.4736 - val_accuracy: 0.7731 - val_precision_2: 0.7420 - val_recall_2: 0.7393\n",
      "Epoch 13/30\n",
      "22921/22921 [==============================] - 2s 86us/step - loss: 0.4800 - accuracy: 0.7684 - precision_2: 0.7425 - recall_2: 0.7403 - val_loss: 0.4693 - val_accuracy: 0.7752 - val_precision_2: 0.7431 - val_recall_2: 0.7409\n",
      "\n",
      "Epoch 00013: ReduceLROnPlateau reducing learning rate to 0.0001250000059371814.\n",
      "Epoch 14/30\n",
      "22921/22921 [==============================] - 2s 89us/step - loss: 0.4792 - accuracy: 0.7705 - precision_2: 0.7438 - recall_2: 0.7415 - val_loss: 0.4680 - val_accuracy: 0.7784 - val_precision_2: 0.7444 - val_recall_2: 0.7422\n",
      "Epoch 15/30\n",
      "22921/22921 [==============================] - 2s 87us/step - loss: 0.4785 - accuracy: 0.7697 - precision_2: 0.7450 - recall_2: 0.7427 - val_loss: 0.4677 - val_accuracy: 0.7745 - val_precision_2: 0.7454 - val_recall_2: 0.7432\n",
      "Epoch 16/30\n",
      "22921/22921 [==============================] - 2s 88us/step - loss: 0.4797 - accuracy: 0.7688 - precision_2: 0.7458 - recall_2: 0.7440 - val_loss: 0.4678 - val_accuracy: 0.7742 - val_precision_2: 0.7461 - val_recall_2: 0.7443\n",
      "Epoch 17/30\n",
      "22921/22921 [==============================] - 2s 88us/step - loss: 0.4808 - accuracy: 0.7660 - precision_2: 0.7464 - recall_2: 0.7447 - val_loss: 0.4688 - val_accuracy: 0.7735 - val_precision_2: 0.7465 - val_recall_2: 0.7451\n",
      "\n",
      "Epoch 00017: ReduceLROnPlateau reducing learning rate to 6.25000029685907e-05.\n",
      "Epoch 18/30\n",
      "22921/22921 [==============================] - 2s 91us/step - loss: 0.4751 - accuracy: 0.7713 - precision_2: 0.7469 - recall_2: 0.7456 - val_loss: 0.4772 - val_accuracy: 0.7689 - val_precision_2: 0.7471 - val_recall_2: 0.7463\n",
      "Epoch 19/30\n",
      "22921/22921 [==============================] - 2s 88us/step - loss: 0.4791 - accuracy: 0.7706 - precision_2: 0.7473 - recall_2: 0.7469 - val_loss: 0.4676 - val_accuracy: 0.7752 - val_precision_2: 0.7475 - val_recall_2: 0.7475\n",
      "Epoch 20/30\n",
      "22921/22921 [==============================] - 2s 90us/step - loss: 0.4801 - accuracy: 0.7712 - precision_2: 0.7479 - recall_2: 0.7480 - val_loss: 0.4669 - val_accuracy: 0.7735 - val_precision_2: 0.7481 - val_recall_2: 0.7482\n",
      "Epoch 21/30\n",
      "22921/22921 [==============================] - 2s 90us/step - loss: 0.4765 - accuracy: 0.7710 - precision_2: 0.7484 - recall_2: 0.7487 - val_loss: 0.4724 - val_accuracy: 0.7724 - val_precision_2: 0.7485 - val_recall_2: 0.7490\n",
      "Epoch 22/30\n",
      "22921/22921 [==============================] - 2s 88us/step - loss: 0.4773 - accuracy: 0.7727 - precision_2: 0.7488 - recall_2: 0.7495 - val_loss: 0.4666 - val_accuracy: 0.7731 - val_precision_2: 0.7490 - val_recall_2: 0.7498\n",
      "Epoch 23/30\n",
      "22921/22921 [==============================] - 2s 90us/step - loss: 0.4799 - accuracy: 0.7685 - precision_2: 0.7493 - recall_2: 0.7499 - val_loss: 0.4680 - val_accuracy: 0.7742 - val_precision_2: 0.7494 - val_recall_2: 0.7500\n",
      "Epoch 24/30\n",
      "22921/22921 [==============================] - 2s 89us/step - loss: 0.4773 - accuracy: 0.7715 - precision_2: 0.7496 - recall_2: 0.7504 - val_loss: 0.4662 - val_accuracy: 0.7759 - val_precision_2: 0.7498 - val_recall_2: 0.7506\n",
      "Epoch 25/30\n",
      "22921/22921 [==============================] - 2s 86us/step - loss: 0.4751 - accuracy: 0.7732 - precision_2: 0.7500 - recall_2: 0.7510 - val_loss: 0.4741 - val_accuracy: 0.7735 - val_precision_2: 0.7501 - val_recall_2: 0.7514\n",
      "Epoch 26/30\n",
      "22921/22921 [==============================] - 2s 95us/step - loss: 0.4806 - accuracy: 0.7684 - precision_2: 0.7502 - recall_2: 0.7517 - val_loss: 0.4700 - val_accuracy: 0.7738 - val_precision_2: 0.7503 - val_recall_2: 0.7520\n",
      "\n",
      "Epoch 00026: ReduceLROnPlateau reducing learning rate to 3.125000148429535e-05.\n",
      "Epoch 27/30\n",
      "22921/22921 [==============================] - 2s 91us/step - loss: 0.4780 - accuracy: 0.7723 - precision_2: 0.7505 - recall_2: 0.7523 - val_loss: 0.4675 - val_accuracy: 0.7752 - val_precision_2: 0.7506 - val_recall_2: 0.7525\n",
      "Epoch 28/30\n",
      "22921/22921 [==============================] - 2s 88us/step - loss: 0.4782 - accuracy: 0.7718 - precision_2: 0.7507 - recall_2: 0.7527 - val_loss: 0.4676 - val_accuracy: 0.7752 - val_precision_2: 0.7509 - val_recall_2: 0.7529\n",
      "\n",
      "Epoch 00028: ReduceLROnPlateau reducing learning rate to 1.5625000742147677e-05.\n",
      "Epoch 29/30\n",
      "22921/22921 [==============================] - 2s 89us/step - loss: 0.4758 - accuracy: 0.7707 - precision_2: 0.7510 - recall_2: 0.7531 - val_loss: 0.4673 - val_accuracy: 0.7752 - val_precision_2: 0.7511 - val_recall_2: 0.7532\n",
      "Epoch 00029: early stopping\n",
      "score    : 45.29\n",
      "Accuracy : 79.04%\n",
      "Precision: 75.12%\n",
      "Recall   : 75.34%\n",
      "F1-Score : 75.23%\n"
     ]
    }
   ],
   "source": [
    "# create the model\n",
    "reduce_lr = keras.callbacks.ReduceLROnPlateau(monitor='val_loss', factor=0.50, patience=2, verbose=1, mode='auto', cooldown=0, min_lr=0.00001)\n",
    "\n",
    "early = keras.callbacks.EarlyStopping(monitor='val_loss', min_delta=0, patience=5, verbose=1, mode='auto')\n",
    "\n",
    "model = Sequential()\n",
    "model.add(LSTM(128,dropout=0.02,recurrent_dropout=0.02,input_shape=(x_train.shape[1],x_train.shape[2])))\n",
    "model.add(Dense(1, activation='sigmoid'))\n",
    "model.compile(loss='binary_crossentropy', optimizer='adam', metrics=['accuracy',tf.keras.metrics.Precision(),tf.keras.metrics.Recall()])\n",
    "print(model.summary())\n",
    "\n",
    "history  = model.fit(np.array(x_train), np.array(y_train),\n",
    " epochs= 30,\n",
    " batch_size = 100,\n",
    " validation_data = (np.array(x_val), np.array(y_val)),\n",
    " callbacks = [reduce_lr, early]\n",
    ")\n",
    "\n",
    "score = model.evaluate(x_test, y_test, verbose = 2)\n",
    "print(\"score    : %.2f\" % (score[0]*100))\n",
    "print(\"Accuracy : %.2f%%\" % (score[1]*100))\n",
    "print(\"Precision: %.2f%%\" % (score[2]*100))\n",
    "print(\"Recall   : %.2f%%\" % (score[3]*100))\n",
    "print(\"F1-Score : %.2f%%\" % ((2*(score[2]*score[3])/(score[2]+score[3]))*100))"
   ]
  },
  {
   "cell_type": "code",
   "execution_count": 35,
   "metadata": {},
   "outputs": [
    {
     "data": {
      "text/plain": [
       "<AxesSubplot:>"
      ]
     },
     "execution_count": 35,
     "metadata": {},
     "output_type": "execute_result"
    },
    {
     "data": {
      "image/png": "[encoded data removed]",
      "text/plain": [
       "<Figure size 432x288 with 1 Axes>"
      ]
     },
     "metadata": {
      "needs_background": "light"
     },
     "output_type": "display_data"
    }
   ],
   "source": [
    "pd.DataFrame(history.history).plot(kind='line')"
   ]
  },
  {
   "cell_type": "markdown",
   "metadata": {},
   "source": [
    "## Bi-Directional LSTM 128 nodes without Dropouts"
   ]
  },
  {
   "cell_type": "code",
   "execution_count": 36,
   "metadata": {
    "scrolled": true
   },
   "outputs": [
    {
     "name": "stdout",
     "output_type": "stream",
     "text": [
      "Model: \"sequential_4\"\n",
      "_________________________________________________________________\n",
      "Layer (type)                 Output Shape              Param #   \n",
      "=================================================================\n",
      "bidirectional_1 (Bidirection (None, 256)               336896    \n",
      "_________________________________________________________________\n",
      "dense_4 (Dense)              (None, 1)                 257       \n",
      "=================================================================\n",
      "Total params: 337,153\n",
      "Trainable params: 337,153\n",
      "Non-trainable params: 0\n",
      "_________________________________________________________________\n",
      "None\n",
      "Train on 22921 samples, validate on 2834 samples\n",
      "Epoch 1/30\n",
      "22921/22921 [==============================] - 4s 159us/step - loss: 0.5870 - accuracy: 0.6935 - precision_3: 0.6217 - recall_3: 0.5625 - val_loss: 0.4990 - val_accuracy: 0.7548 - val_precision_3: 0.6977 - val_recall_3: 0.6442\n",
      "Epoch 2/30\n",
      "22921/22921 [==============================] - 3s 118us/step - loss: 0.4780 - accuracy: 0.7744 - precision_3: 0.7206 - recall_3: 0.6779 - val_loss: 0.5314 - val_accuracy: 0.7410 - val_precision_3: 0.7299 - val_recall_3: 0.7060\n",
      "Epoch 3/30\n",
      "22921/22921 [==============================] - 3s 116us/step - loss: 0.4711 - accuracy: 0.7757 - precision_3: 0.7346 - recall_3: 0.7214 - val_loss: 0.5879 - val_accuracy: 0.7131 - val_precision_3: 0.7360 - val_recall_3: 0.7320\n",
      "\n",
      "Epoch 00003: ReduceLROnPlateau reducing learning rate to 0.0005000000237487257.\n",
      "Epoch 4/30\n",
      "22921/22921 [==============================] - 3s 119us/step - loss: 0.4652 - accuracy: 0.7798 - precision_3: 0.7375 - recall_3: 0.7404 - val_loss: 0.4834 - val_accuracy: 0.7678 - val_precision_3: 0.7421 - val_recall_3: 0.7423\n",
      "Epoch 5/30\n",
      "22921/22921 [==============================] - 3s 116us/step - loss: 0.4536 - accuracy: 0.7883 - precision_3: 0.7465 - recall_3: 0.7450 - val_loss: 0.4673 - val_accuracy: 0.7735 - val_precision_3: 0.7493 - val_recall_3: 0.7483\n",
      "Epoch 6/30\n",
      "22921/22921 [==============================] - 3s 116us/step - loss: 0.4512 - accuracy: 0.7872 - precision_3: 0.7515 - recall_3: 0.7509 - val_loss: 0.4741 - val_accuracy: 0.7678 - val_precision_3: 0.7530 - val_recall_3: 0.7539\n",
      "Epoch 7/30\n",
      "22921/22921 [==============================] - 3s 118us/step - loss: 0.4525 - accuracy: 0.7889 - precision_3: 0.7547 - recall_3: 0.7565 - val_loss: 0.4685 - val_accuracy: 0.7721 - val_precision_3: 0.7559 - val_recall_3: 0.7580\n",
      "\n",
      "Epoch 00007: ReduceLROnPlateau reducing learning rate to 0.0002500000118743628.\n",
      "Epoch 8/30\n",
      "22921/22921 [==============================] - 3s 122us/step - loss: 0.4441 - accuracy: 0.7947 - precision_3: 0.7575 - recall_3: 0.7599 - val_loss: 0.4642 - val_accuracy: 0.7749 - val_precision_3: 0.7589 - val_recall_3: 0.7615\n",
      "Epoch 9/30\n",
      "22921/22921 [==============================] - 3s 117us/step - loss: 0.4469 - accuracy: 0.7907 - precision_3: 0.7600 - recall_3: 0.7625 - val_loss: 0.4719 - val_accuracy: 0.7692 - val_precision_3: 0.7607 - val_recall_3: 0.7640\n",
      "Epoch 10/30\n",
      "22921/22921 [==============================] - 3s 116us/step - loss: 0.4440 - accuracy: 0.7922 - precision_3: 0.7616 - recall_3: 0.7656 - val_loss: 0.4636 - val_accuracy: 0.7738 - val_precision_3: 0.7623 - val_recall_3: 0.7661\n",
      "Epoch 11/30\n",
      "22921/22921 [==============================] - 3s 117us/step - loss: 0.4433 - accuracy: 0.7921 - precision_3: 0.7630 - recall_3: 0.7671 - val_loss: 0.4747 - val_accuracy: 0.7766 - val_precision_3: 0.7639 - val_recall_3: 0.7673\n",
      "Epoch 12/30\n",
      "22921/22921 [==============================] - 3s 114us/step - loss: 0.4420 - accuracy: 0.7920 - precision_3: 0.7647 - recall_3: 0.7676 - val_loss: 0.4639 - val_accuracy: 0.7735 - val_precision_3: 0.7653 - val_recall_3: 0.7682\n",
      "\n",
      "Epoch 00012: ReduceLROnPlateau reducing learning rate to 0.0001250000059371814.\n",
      "Epoch 13/30\n",
      "22921/22921 [==============================] - 3s 117us/step - loss: 0.4385 - accuracy: 0.7947 - precision_3: 0.7658 - recall_3: 0.7689 - val_loss: 0.4625 - val_accuracy: 0.7773 - val_precision_3: 0.7666 - val_recall_3: 0.7694\n",
      "Epoch 14/30\n",
      "22921/22921 [==============================] - 3s 117us/step - loss: 0.4391 - accuracy: 0.7942 - precision_3: 0.7672 - recall_3: 0.7697 - val_loss: 0.4641 - val_accuracy: 0.7724 - val_precision_3: 0.7676 - val_recall_3: 0.7704\n",
      "Epoch 15/30\n",
      "22921/22921 [==============================] - 2s 107us/step - loss: 0.4395 - accuracy: 0.7949 - precision_3: 0.7680 - recall_3: 0.7711 - val_loss: 0.4605 - val_accuracy: 0.7802 - val_precision_3: 0.7684 - val_recall_3: 0.7716\n",
      "Epoch 16/30\n",
      "22921/22921 [==============================] - 3s 114us/step - loss: 0.4380 - accuracy: 0.7957 - precision_3: 0.7688 - recall_3: 0.7720 - val_loss: 0.4602 - val_accuracy: 0.7759 - val_precision_3: 0.7692 - val_recall_3: 0.7725\n",
      "Epoch 17/30\n",
      "22921/22921 [==============================] - 3s 113us/step - loss: 0.4389 - accuracy: 0.7952 - precision_3: 0.7697 - recall_3: 0.7729 - val_loss: 0.4601 - val_accuracy: 0.7784 - val_precision_3: 0.7700 - val_recall_3: 0.7732\n",
      "Epoch 18/30\n",
      "22921/22921 [==============================] - 3s 114us/step - loss: 0.4385 - accuracy: 0.7947 - precision_3: 0.7704 - recall_3: 0.7733 - val_loss: 0.4606 - val_accuracy: 0.7791 - val_precision_3: 0.7708 - val_recall_3: 0.7736\n",
      "\n",
      "Epoch 00018: ReduceLROnPlateau reducing learning rate to 6.25000029685907e-05.\n",
      "Epoch 19/30\n",
      "22921/22921 [==============================] - 3s 112us/step - loss: 0.4362 - accuracy: 0.7973 - precision_3: 0.7713 - recall_3: 0.7739 - val_loss: 0.4598 - val_accuracy: 0.7791 - val_precision_3: 0.7715 - val_recall_3: 0.7743\n",
      "Epoch 20/30\n",
      "22921/22921 [==============================] - 3s 123us/step - loss: 0.4374 - accuracy: 0.7975 - precision_3: 0.7718 - recall_3: 0.7745 - val_loss: 0.4672 - val_accuracy: 0.7770 - val_precision_3: 0.7720 - val_recall_3: 0.7750\n",
      "Epoch 21/30\n",
      "22921/22921 [==============================] - 3s 118us/step - loss: 0.4362 - accuracy: 0.7964 - precision_3: 0.7722 - recall_3: 0.7754 - val_loss: 0.4605 - val_accuracy: 0.7749 - val_precision_3: 0.7724 - val_recall_3: 0.7757\n",
      "\n",
      "Epoch 00021: ReduceLROnPlateau reducing learning rate to 3.125000148429535e-05.\n",
      "Epoch 22/30\n",
      "22921/22921 [==============================] - 3s 117us/step - loss: 0.4350 - accuracy: 0.7983 - precision_3: 0.7727 - recall_3: 0.7761 - val_loss: 0.4614 - val_accuracy: 0.7745 - val_precision_3: 0.7729 - val_recall_3: 0.7764\n",
      "Epoch 23/30\n",
      "22921/22921 [==============================] - 3s 118us/step - loss: 0.4349 - accuracy: 0.7980 - precision_3: 0.7732 - recall_3: 0.7767 - val_loss: 0.4601 - val_accuracy: 0.7763 - val_precision_3: 0.7733 - val_recall_3: 0.7770\n",
      "\n",
      "Epoch 00023: ReduceLROnPlateau reducing learning rate to 1.5625000742147677e-05.\n",
      "Epoch 24/30\n",
      "22921/22921 [==============================] - 3s 118us/step - loss: 0.4345 - accuracy: 0.7984 - precision_3: 0.7736 - recall_3: 0.7773 - val_loss: 0.4605 - val_accuracy: 0.7742 - val_precision_3: 0.7737 - val_recall_3: 0.7776\n",
      "Epoch 00024: early stopping\n",
      "score    : 44.37\n",
      "Accuracy : 79.25%\n",
      "Precision: 77.37%\n",
      "Recall   : 77.77%\n",
      "F1-Score : 77.56%\n"
     ]
    }
   ],
   "source": [
    "# create the model\n",
    "reduce_lr = keras.callbacks.ReduceLROnPlateau(monitor='val_loss', factor=0.50, patience=2, verbose=1, mode='auto', cooldown=0, min_lr=0.00001)\n",
    "\n",
    "early = keras.callbacks.EarlyStopping(monitor='val_loss', min_delta=0, patience=5, verbose=1, mode='auto')\n",
    "\n",
    "model = Sequential()\n",
    "model.add(Bidirectional(LSTM(128),input_shape=(x_train.shape[1],x_train.shape[2])))\n",
    "model.add(Dense(1, activation='sigmoid'))\n",
    "model.compile(loss='binary_crossentropy', optimizer='adam', metrics=['accuracy',tf.keras.metrics.Precision(),tf.keras.metrics.Recall()])\n",
    "print(model.summary())\n",
    "\n",
    "history  = model.fit(np.array(x_train), np.array(y_train),\n",
    " epochs= 30,\n",
    " batch_size = 100,\n",
    " validation_data = (np.array(x_val), np.array(y_val)),\n",
    " callbacks = [reduce_lr, early]\n",
    ")\n",
    "\n",
    "score = model.evaluate(x_test, y_test, verbose = 2)\n",
    "print(\"score    : %.2f\" % (score[0]*100))\n",
    "print(\"Accuracy : %.2f%%\" % (score[1]*100))\n",
    "print(\"Precision: %.2f%%\" % (score[2]*100))\n",
    "print(\"Recall   : %.2f%%\" % (score[3]*100))\n",
    "print(\"F1-Score : %.2f%%\" % ((2*(score[2]*score[3])/(score[2]+score[3]))*100))"
   ]
  },
  {
   "cell_type": "code",
   "execution_count": 37,
   "metadata": {},
   "outputs": [
    {
     "data": {
      "text/plain": [
       "<AxesSubplot:>"
      ]
     },
     "execution_count": 37,
     "metadata": {},
     "output_type": "execute_result"
    },
    {
     "data": {
      "image/png": "[encoded data removed]",
      "text/plain": [
       "<Figure size 432x288 with 1 Axes>"
      ]
     },
     "metadata": {
      "needs_background": "light"
     },
     "output_type": "display_data"
    }
   ],
   "source": [
    "pd.DataFrame(history.history).plot(kind='line')"
   ]
  },
  {
   "cell_type": "code",
   "execution_count": null,
   "metadata": {},
   "outputs": [],
   "source": []
  }
 ],
 "metadata": {
  "kernelspec": {
   "display_name": "Python 3",
   "language": "python",
   "name": "python3"
  },
  "language_info": {
   "codemirror_mode": {
    "name": "ipython",
    "version": 3
   },
   "file_extension": ".py",
   "mimetype": "text/x-python",
   "name": "python",
   "nbconvert_exporter": "python",
   "pygments_lexer": "ipython3",
   "version": "3.7.9"
  }
 },
 "nbformat": 4,
 "nbformat_minor": 2
}
